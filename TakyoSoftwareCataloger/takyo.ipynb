{
 "cells": [
  {
   "cell_type": "markdown",
   "metadata": {},
   "source": [
    "## Understand\n",
    "\n",
    "The sections \"Background\" and \"The Mailing Experiment\" are provided as context for the business challenge. \n",
    "\n",
    "**Background**\n",
    "\n",
    "Takyo is a software catalog firm that sells games and educational software. It started out as a software manufactuer and later added third-party titles to its offerings. It has recently put together a revised collection of items in a new catalog, which it is preparing to roll out in a mailing. \n",
    "\n",
    "In addition to its own software titles, Tayko's customer list is a key asset. In an attempt to expand its customer base, it has recently joined a consortium of catalog firms that specialize in computer and software products. The consortium affords members the opportunity to mail catalogs to names drawn from a pooled list of customers. Members supply their own customer lists to the pool, and can \"withdraw\" an equivalent number of names each quarter. Members are allowed to do predictive modeling on the records in the pool so they can do a better job of selecting names from the pool. \n",
    "\n",
    "NOTE: Although Tayko is a hypothetical company, the data in this case (modified slightly for illustrative purposes) were supplied by a real company that sells software through direct sales. The concept of a catalog consortium is based on the Abacus Catalog Alliance. \n",
    "\n",
    "**The Mailing Experiment**\n",
    "\n",
    "Tayko has supplied its customer list of 200,000 names to the pool, which totals over 5,000,000 names, so it is now entitled to draw 200,000 names for a mailing. Tayko would like to select names that have the best chance of performing well, so it conducts a test -- it draws 20,000 names from the pool and does a test mailing of the new catalog. \n",
    "\n",
    "This mailing yielded 1065 purchasers, a response rate of 5.3%. To optimize the performance of the data mining techniques, it was decided to work with a stratified sample that contained equal numbers of purchasers and nonpurchasers. For ease of presentation, the dataset for this case includes just 1000 purchasers and 1000 nonpurchasers, an apparent response rate of 50%. Therefore, after using the dataset to predict who will be a purchaser, we must adjust the purchase rate back down by multiplying each case's \"probability of purchase\" by 5.3%/50% (or 0.107).\n",
    "\n",
    "**Objectives**\n",
    "\n",
    "Each catalog costs approximately \\$2 to mail (including printing, postage, and mailing costs). The goal of the analysis will be to determine how to maximize the expected profit of sending catalogs to the remaining 180,000 names that Tayko can select from the consortium database. \n",
    "\n",
    "To achieve the objective of maximizing revenue, we will:\n",
    "1. Estimate the gross profit if Tayko selected the remaining 180,000 records at random\n",
    "2. Develop a model for classifying the propability of purchase for each customer (adjusted for oversampling purchasers)\n",
    "3. Develop a model for predicting the spend of each customer's purchase\n",
    "4. Calculate the expected value of each customer by multiplying the probability of purchase by the predicted spend\n",
    "5. Estimate the gross profit that would result from using the predictive models for selecting the remaining 180,000 names from the catalog database\n",
    "\n",
    "Performance of individual models will be measured using the accuracy for the classification task (since our sample is split 50/50) and RMSE for the prediction task. Overall, success will be measured by an increase of 20% in the expected gross profit of sending catalogs to customers using the predictive pipeline compared to completely at random. \n",
    "\n",
    "**Deployment**\n",
    "\n",
    "If the predictive analytics solution is deemed successful, the resulting models will be used to score customers before the next sendout. Customers will be pulled from the database and scored offline before being selected for the next mailing. "
   ]
  },
  {
   "cell_type": "markdown",
   "metadata": {},
   "source": [
    "## Theorize\n",
    "\n",
    "**Data**\n",
    "\n",
    "The dataset for the business analytics task is provided by the catalog constorium and contains 1000 purchasers and 1000 nonpurchasers with 25 total variables:\n",
    "+ Sequence number (psedo customer ID)\n",
    "+ US address (Y/N)\n",
    "+ Source catalog for the record (15 variables)\n",
    "+ Number of transactions last year in source catalog\n",
    "+ Days last update was made to customer record\n",
    "+ Days ago first update was made\n",
    "+ Previous Web Order (Y/N)\n",
    "+ Gender\n",
    "+ Address is residential (Y/N)\n",
    "+ Purchase in test mailing (Y/N)\n",
    "+ Spend in test mailing (dollars)"
   ]
  },
  {
   "cell_type": "code",
   "execution_count": 378,
   "metadata": {},
   "outputs": [],
   "source": [
    "import numpy as np\n",
    "import pandas as pd\n",
    "import matplotlib.pyplot as plt\n",
    "import seaborn as sns\n",
    "import altair as alt\n",
    "\n",
    "sns.set(color_codes = True)\n",
    "sns.set(style = \"white\")\n",
    "%matplotlib inline\n",
    "\n",
    "import warnings\n",
    "warnings.filterwarnings('ignore')"
   ]
  },
  {
   "cell_type": "code",
   "execution_count": 300,
   "metadata": {},
   "outputs": [],
   "source": [
    "# sequence number is a customer identifier\n",
    "tayko = pd.read_csv('data/raw/Tayko.csv', index_col = 'sequence_number')"
   ]
  },
  {
   "cell_type": "markdown",
   "metadata": {},
   "source": [
    "We can confirm that there are no missing values and the data only contains numeric values."
   ]
  },
  {
   "cell_type": "code",
   "execution_count": 301,
   "metadata": {},
   "outputs": [
    {
     "name": "stdout",
     "output_type": "stream",
     "text": [
      "<class 'pandas.core.frame.DataFrame'>\n",
      "Int64Index: 2000 entries, 1 to 2000\n",
      "Data columns (total 24 columns):\n",
      "US                      2000 non-null int64\n",
      "source_a                2000 non-null int64\n",
      "source_c                2000 non-null int64\n",
      "source_b                2000 non-null int64\n",
      "source_d                2000 non-null int64\n",
      "source_e                2000 non-null int64\n",
      "source_m                2000 non-null int64\n",
      "source_o                2000 non-null int64\n",
      "source_h                2000 non-null int64\n",
      "source_r                2000 non-null int64\n",
      "source_s                2000 non-null int64\n",
      "source_t                2000 non-null int64\n",
      "source_u                2000 non-null int64\n",
      "source_p                2000 non-null int64\n",
      "source_x                2000 non-null int64\n",
      "source_w                2000 non-null int64\n",
      "Freq                    2000 non-null int64\n",
      "last_update_days_ago    2000 non-null int64\n",
      "1st_update_days_ago     2000 non-null int64\n",
      "Web order               2000 non-null int64\n",
      "Gender=male             2000 non-null int64\n",
      "Address_is_res          2000 non-null int64\n",
      "Purchase                2000 non-null int64\n",
      "Spending                2000 non-null int64\n",
      "dtypes: int64(24)\n",
      "memory usage: 390.6 KB\n"
     ]
    }
   ],
   "source": [
    "tayko.info()"
   ]
  },
  {
   "cell_type": "code",
   "execution_count": 302,
   "metadata": {},
   "outputs": [
    {
     "data": {
      "text/html": [
       "<div>\n",
       "<style scoped>\n",
       "    .dataframe tbody tr th:only-of-type {\n",
       "        vertical-align: middle;\n",
       "    }\n",
       "\n",
       "    .dataframe tbody tr th {\n",
       "        vertical-align: top;\n",
       "    }\n",
       "\n",
       "    .dataframe thead th {\n",
       "        text-align: right;\n",
       "    }\n",
       "</style>\n",
       "<table border=\"1\" class=\"dataframe\">\n",
       "  <thead>\n",
       "    <tr style=\"text-align: right;\">\n",
       "      <th></th>\n",
       "      <th>count</th>\n",
       "      <th>mean</th>\n",
       "      <th>std</th>\n",
       "      <th>min</th>\n",
       "      <th>25%</th>\n",
       "      <th>50%</th>\n",
       "      <th>75%</th>\n",
       "      <th>max</th>\n",
       "    </tr>\n",
       "  </thead>\n",
       "  <tbody>\n",
       "    <tr>\n",
       "      <th>US</th>\n",
       "      <td>2000.0</td>\n",
       "      <td>0.82</td>\n",
       "      <td>0.38</td>\n",
       "      <td>0.0</td>\n",
       "      <td>1.00</td>\n",
       "      <td>1.0</td>\n",
       "      <td>1.00</td>\n",
       "      <td>1.0</td>\n",
       "    </tr>\n",
       "    <tr>\n",
       "      <th>source_a</th>\n",
       "      <td>2000.0</td>\n",
       "      <td>0.13</td>\n",
       "      <td>0.33</td>\n",
       "      <td>0.0</td>\n",
       "      <td>0.00</td>\n",
       "      <td>0.0</td>\n",
       "      <td>0.00</td>\n",
       "      <td>1.0</td>\n",
       "    </tr>\n",
       "    <tr>\n",
       "      <th>source_c</th>\n",
       "      <td>2000.0</td>\n",
       "      <td>0.06</td>\n",
       "      <td>0.23</td>\n",
       "      <td>0.0</td>\n",
       "      <td>0.00</td>\n",
       "      <td>0.0</td>\n",
       "      <td>0.00</td>\n",
       "      <td>1.0</td>\n",
       "    </tr>\n",
       "    <tr>\n",
       "      <th>source_b</th>\n",
       "      <td>2000.0</td>\n",
       "      <td>0.06</td>\n",
       "      <td>0.24</td>\n",
       "      <td>0.0</td>\n",
       "      <td>0.00</td>\n",
       "      <td>0.0</td>\n",
       "      <td>0.00</td>\n",
       "      <td>1.0</td>\n",
       "    </tr>\n",
       "    <tr>\n",
       "      <th>source_d</th>\n",
       "      <td>2000.0</td>\n",
       "      <td>0.04</td>\n",
       "      <td>0.20</td>\n",
       "      <td>0.0</td>\n",
       "      <td>0.00</td>\n",
       "      <td>0.0</td>\n",
       "      <td>0.00</td>\n",
       "      <td>1.0</td>\n",
       "    </tr>\n",
       "    <tr>\n",
       "      <th>source_e</th>\n",
       "      <td>2000.0</td>\n",
       "      <td>0.15</td>\n",
       "      <td>0.36</td>\n",
       "      <td>0.0</td>\n",
       "      <td>0.00</td>\n",
       "      <td>0.0</td>\n",
       "      <td>0.00</td>\n",
       "      <td>1.0</td>\n",
       "    </tr>\n",
       "    <tr>\n",
       "      <th>source_m</th>\n",
       "      <td>2000.0</td>\n",
       "      <td>0.02</td>\n",
       "      <td>0.13</td>\n",
       "      <td>0.0</td>\n",
       "      <td>0.00</td>\n",
       "      <td>0.0</td>\n",
       "      <td>0.00</td>\n",
       "      <td>1.0</td>\n",
       "    </tr>\n",
       "    <tr>\n",
       "      <th>source_o</th>\n",
       "      <td>2000.0</td>\n",
       "      <td>0.03</td>\n",
       "      <td>0.18</td>\n",
       "      <td>0.0</td>\n",
       "      <td>0.00</td>\n",
       "      <td>0.0</td>\n",
       "      <td>0.00</td>\n",
       "      <td>1.0</td>\n",
       "    </tr>\n",
       "    <tr>\n",
       "      <th>source_h</th>\n",
       "      <td>2000.0</td>\n",
       "      <td>0.05</td>\n",
       "      <td>0.22</td>\n",
       "      <td>0.0</td>\n",
       "      <td>0.00</td>\n",
       "      <td>0.0</td>\n",
       "      <td>0.00</td>\n",
       "      <td>1.0</td>\n",
       "    </tr>\n",
       "    <tr>\n",
       "      <th>source_r</th>\n",
       "      <td>2000.0</td>\n",
       "      <td>0.07</td>\n",
       "      <td>0.25</td>\n",
       "      <td>0.0</td>\n",
       "      <td>0.00</td>\n",
       "      <td>0.0</td>\n",
       "      <td>0.00</td>\n",
       "      <td>1.0</td>\n",
       "    </tr>\n",
       "    <tr>\n",
       "      <th>source_s</th>\n",
       "      <td>2000.0</td>\n",
       "      <td>0.05</td>\n",
       "      <td>0.21</td>\n",
       "      <td>0.0</td>\n",
       "      <td>0.00</td>\n",
       "      <td>0.0</td>\n",
       "      <td>0.00</td>\n",
       "      <td>1.0</td>\n",
       "    </tr>\n",
       "    <tr>\n",
       "      <th>source_t</th>\n",
       "      <td>2000.0</td>\n",
       "      <td>0.02</td>\n",
       "      <td>0.15</td>\n",
       "      <td>0.0</td>\n",
       "      <td>0.00</td>\n",
       "      <td>0.0</td>\n",
       "      <td>0.00</td>\n",
       "      <td>1.0</td>\n",
       "    </tr>\n",
       "    <tr>\n",
       "      <th>source_u</th>\n",
       "      <td>2000.0</td>\n",
       "      <td>0.12</td>\n",
       "      <td>0.32</td>\n",
       "      <td>0.0</td>\n",
       "      <td>0.00</td>\n",
       "      <td>0.0</td>\n",
       "      <td>0.00</td>\n",
       "      <td>1.0</td>\n",
       "    </tr>\n",
       "    <tr>\n",
       "      <th>source_p</th>\n",
       "      <td>2000.0</td>\n",
       "      <td>0.01</td>\n",
       "      <td>0.08</td>\n",
       "      <td>0.0</td>\n",
       "      <td>0.00</td>\n",
       "      <td>0.0</td>\n",
       "      <td>0.00</td>\n",
       "      <td>1.0</td>\n",
       "    </tr>\n",
       "    <tr>\n",
       "      <th>source_x</th>\n",
       "      <td>2000.0</td>\n",
       "      <td>0.02</td>\n",
       "      <td>0.13</td>\n",
       "      <td>0.0</td>\n",
       "      <td>0.00</td>\n",
       "      <td>0.0</td>\n",
       "      <td>0.00</td>\n",
       "      <td>1.0</td>\n",
       "    </tr>\n",
       "    <tr>\n",
       "      <th>source_w</th>\n",
       "      <td>2000.0</td>\n",
       "      <td>0.14</td>\n",
       "      <td>0.34</td>\n",
       "      <td>0.0</td>\n",
       "      <td>0.00</td>\n",
       "      <td>0.0</td>\n",
       "      <td>0.00</td>\n",
       "      <td>1.0</td>\n",
       "    </tr>\n",
       "    <tr>\n",
       "      <th>Freq</th>\n",
       "      <td>2000.0</td>\n",
       "      <td>1.42</td>\n",
       "      <td>1.41</td>\n",
       "      <td>0.0</td>\n",
       "      <td>1.00</td>\n",
       "      <td>1.0</td>\n",
       "      <td>2.00</td>\n",
       "      <td>15.0</td>\n",
       "    </tr>\n",
       "    <tr>\n",
       "      <th>last_update_days_ago</th>\n",
       "      <td>2000.0</td>\n",
       "      <td>2155.10</td>\n",
       "      <td>1141.30</td>\n",
       "      <td>1.0</td>\n",
       "      <td>1133.00</td>\n",
       "      <td>2280.0</td>\n",
       "      <td>3139.25</td>\n",
       "      <td>4188.0</td>\n",
       "    </tr>\n",
       "    <tr>\n",
       "      <th>1st_update_days_ago</th>\n",
       "      <td>2000.0</td>\n",
       "      <td>2435.60</td>\n",
       "      <td>1077.87</td>\n",
       "      <td>1.0</td>\n",
       "      <td>1671.25</td>\n",
       "      <td>2721.0</td>\n",
       "      <td>3353.00</td>\n",
       "      <td>4188.0</td>\n",
       "    </tr>\n",
       "    <tr>\n",
       "      <th>Web order</th>\n",
       "      <td>2000.0</td>\n",
       "      <td>0.43</td>\n",
       "      <td>0.49</td>\n",
       "      <td>0.0</td>\n",
       "      <td>0.00</td>\n",
       "      <td>0.0</td>\n",
       "      <td>1.00</td>\n",
       "      <td>1.0</td>\n",
       "    </tr>\n",
       "    <tr>\n",
       "      <th>Gender=male</th>\n",
       "      <td>2000.0</td>\n",
       "      <td>0.52</td>\n",
       "      <td>0.50</td>\n",
       "      <td>0.0</td>\n",
       "      <td>0.00</td>\n",
       "      <td>1.0</td>\n",
       "      <td>1.00</td>\n",
       "      <td>1.0</td>\n",
       "    </tr>\n",
       "    <tr>\n",
       "      <th>Address_is_res</th>\n",
       "      <td>2000.0</td>\n",
       "      <td>0.22</td>\n",
       "      <td>0.42</td>\n",
       "      <td>0.0</td>\n",
       "      <td>0.00</td>\n",
       "      <td>0.0</td>\n",
       "      <td>0.00</td>\n",
       "      <td>1.0</td>\n",
       "    </tr>\n",
       "    <tr>\n",
       "      <th>Purchase</th>\n",
       "      <td>2000.0</td>\n",
       "      <td>0.50</td>\n",
       "      <td>0.50</td>\n",
       "      <td>0.0</td>\n",
       "      <td>0.00</td>\n",
       "      <td>0.5</td>\n",
       "      <td>1.00</td>\n",
       "      <td>1.0</td>\n",
       "    </tr>\n",
       "    <tr>\n",
       "      <th>Spending</th>\n",
       "      <td>2000.0</td>\n",
       "      <td>102.62</td>\n",
       "      <td>186.78</td>\n",
       "      <td>0.0</td>\n",
       "      <td>0.00</td>\n",
       "      <td>2.0</td>\n",
       "      <td>153.00</td>\n",
       "      <td>1500.0</td>\n",
       "    </tr>\n",
       "  </tbody>\n",
       "</table>\n",
       "</div>"
      ],
      "text/plain": [
       "                       count     mean      std  min      25%     50%      75%  \\\n",
       "US                    2000.0     0.82     0.38  0.0     1.00     1.0     1.00   \n",
       "source_a              2000.0     0.13     0.33  0.0     0.00     0.0     0.00   \n",
       "source_c              2000.0     0.06     0.23  0.0     0.00     0.0     0.00   \n",
       "source_b              2000.0     0.06     0.24  0.0     0.00     0.0     0.00   \n",
       "source_d              2000.0     0.04     0.20  0.0     0.00     0.0     0.00   \n",
       "source_e              2000.0     0.15     0.36  0.0     0.00     0.0     0.00   \n",
       "source_m              2000.0     0.02     0.13  0.0     0.00     0.0     0.00   \n",
       "source_o              2000.0     0.03     0.18  0.0     0.00     0.0     0.00   \n",
       "source_h              2000.0     0.05     0.22  0.0     0.00     0.0     0.00   \n",
       "source_r              2000.0     0.07     0.25  0.0     0.00     0.0     0.00   \n",
       "source_s              2000.0     0.05     0.21  0.0     0.00     0.0     0.00   \n",
       "source_t              2000.0     0.02     0.15  0.0     0.00     0.0     0.00   \n",
       "source_u              2000.0     0.12     0.32  0.0     0.00     0.0     0.00   \n",
       "source_p              2000.0     0.01     0.08  0.0     0.00     0.0     0.00   \n",
       "source_x              2000.0     0.02     0.13  0.0     0.00     0.0     0.00   \n",
       "source_w              2000.0     0.14     0.34  0.0     0.00     0.0     0.00   \n",
       "Freq                  2000.0     1.42     1.41  0.0     1.00     1.0     2.00   \n",
       "last_update_days_ago  2000.0  2155.10  1141.30  1.0  1133.00  2280.0  3139.25   \n",
       "1st_update_days_ago   2000.0  2435.60  1077.87  1.0  1671.25  2721.0  3353.00   \n",
       "Web order             2000.0     0.43     0.49  0.0     0.00     0.0     1.00   \n",
       "Gender=male           2000.0     0.52     0.50  0.0     0.00     1.0     1.00   \n",
       "Address_is_res        2000.0     0.22     0.42  0.0     0.00     0.0     0.00   \n",
       "Purchase              2000.0     0.50     0.50  0.0     0.00     0.5     1.00   \n",
       "Spending              2000.0   102.62   186.78  0.0     0.00     2.0   153.00   \n",
       "\n",
       "                         max  \n",
       "US                       1.0  \n",
       "source_a                 1.0  \n",
       "source_c                 1.0  \n",
       "source_b                 1.0  \n",
       "source_d                 1.0  \n",
       "source_e                 1.0  \n",
       "source_m                 1.0  \n",
       "source_o                 1.0  \n",
       "source_h                 1.0  \n",
       "source_r                 1.0  \n",
       "source_s                 1.0  \n",
       "source_t                 1.0  \n",
       "source_u                 1.0  \n",
       "source_p                 1.0  \n",
       "source_x                 1.0  \n",
       "source_w                 1.0  \n",
       "Freq                    15.0  \n",
       "last_update_days_ago  4188.0  \n",
       "1st_update_days_ago   4188.0  \n",
       "Web order                1.0  \n",
       "Gender=male              1.0  \n",
       "Address_is_res           1.0  \n",
       "Purchase                 1.0  \n",
       "Spending              1500.0  "
      ]
     },
     "execution_count": 302,
     "metadata": {},
     "output_type": "execute_result"
    }
   ],
   "source": [
    "tayko.describe().T.round(2)"
   ]
  },
  {
   "cell_type": "markdown",
   "metadata": {},
   "source": [
    "We see most of the customers in our sample come from sources E and W, majority have US addresses, do not have residential addresses, and have made 1-2 purchases. "
   ]
  },
  {
   "cell_type": "markdown",
   "metadata": {},
   "source": [
    "**Objective \\#1**\n",
    "\n",
    "We see that the average spend of a customer in the test send is \\\\$102.62. What is the expected gross profit if we send catalogs to 180k random customers and 5.3% respond with an average purchase of \\\\$102.62 (though this includes non-spenders)?"
   ]
  },
  {
   "cell_type": "code",
   "execution_count": 303,
   "metadata": {},
   "outputs": [
    {
     "name": "stdout",
     "output_type": "stream",
     "text": [
      "The total expected gross profit of a random sendout is $1607311.66\n",
      "The expected gross profit per customer is $8.93\n",
      "\n",
      "Our objective will be to deliver an expected gross profit of $1928774.0\n",
      "Our objective gross profit per customer is $10.72\n"
     ]
    }
   ],
   "source": [
    "# test response rate\n",
    "response_rate = 1065 / 20000\n",
    "# avergae spend of those that responded\n",
    "avg_spend = tayko[tayko['Purchase'] == 1]['Spending'].mean()\n",
    "# next sendout size\n",
    "sendout_size = 180000\n",
    "# cost in $ of mailing\n",
    "sendout_cost = 2\n",
    "# objective ROI increase of data mining task\n",
    "roi_increase = .2\n",
    "\n",
    "random_gross_profit = (sendout_size * response_rate * avg_spend) - (sendout_size * sendout_cost)\n",
    "print(f\"The total expected gross profit of a random sendout is ${np.round(random_gross_profit, 2)}\")\n",
    "print(f\"The expected gross profit per customer is ${np.round(random_gross_profit / sendout_size, 2)}\")\n",
    "print()\n",
    "\n",
    "objective_gross_profit = random_gross_profit * (1 + roi_increase)\n",
    "print(f\"Our objective will be to deliver an expected gross profit of ${np.round(objective_gross_profit, 2)}\")\n",
    "print(f\"Our objective gross profit per customer is ${np.round(objective_gross_profit / sendout_size, 2)}\")"
   ]
  },
  {
   "cell_type": "markdown",
   "metadata": {},
   "source": [
    "**Notes:**\n",
    "\n",
    "+ We can contact about 3.6% of the remaining customers (180k / 4.98 million). \n",
    "+ If we can increase the expected profit per customer in the top 5% of customers in the test set to \\\\$10.72, we will achieve the goal. "
   ]
  },
  {
   "cell_type": "markdown",
   "metadata": {},
   "source": [
    "#### Data Partition"
   ]
  },
  {
   "cell_type": "code",
   "execution_count": 328,
   "metadata": {},
   "outputs": [
    {
     "name": "stdout",
     "output_type": "stream",
     "text": [
      "Features: \n",
      "['US', 'source_a', 'source_c', 'source_b', 'source_d', 'source_e', 'source_m', 'source_o', 'source_h', 'source_r', 'source_s', 'source_t', 'source_u', 'source_p', 'source_x', 'source_w', 'Freq', 'last_update_days_ago', '1st_update_days_ago', 'Web order', 'Gender=male', 'Address_is_res']\n",
      "\n",
      "Targets: \n",
      "['Spending', 'Purchase']\n",
      "\n",
      "Training Set: 1500 rows and 22 features\n",
      "Testing Set: 500 rows and 22 features\n"
     ]
    }
   ],
   "source": [
    "# split into train and test sets\n",
    "from sklearn.model_selection import train_test_split\n",
    "\n",
    "targets = ['Spending', 'Purchase']\n",
    "features = [x for x in tayko.columns if x not in targets]\n",
    "\n",
    "X_train, X_test, y_train, y_test = train_test_split(\n",
    "    tayko[features], tayko[targets], test_size = 0.25, random_state = 42\n",
    ")\n",
    "\n",
    "print(f\"Features: \\n{features}\")\n",
    "print()\n",
    "print(f\"Targets: \\n{targets}\")\n",
    "print()\n",
    "print(f\"Training Set: {X_train.shape[0]} rows and {X_train.shape[1]} features\")\n",
    "print(f\"Testing Set: {X_test.shape[0]} rows and {X_test.shape[1]} features\")"
   ]
  },
  {
   "cell_type": "code",
   "execution_count": 329,
   "metadata": {},
   "outputs": [
    {
     "name": "stdout",
     "output_type": "stream",
     "text": [
      "Train\n",
      "0    757\n",
      "1    743\n",
      "Name: Purchase, dtype: int64\n",
      "\n",
      "Test\n",
      "1    257\n",
      "0    243\n",
      "Name: Purchase, dtype: int64\n"
     ]
    }
   ],
   "source": [
    "print(\"Train\")\n",
    "print(y_train['Purchase'].value_counts())\n",
    "print()\n",
    "print(\"Test\")\n",
    "print(y_test['Purchase'].value_counts())"
   ]
  },
  {
   "cell_type": "markdown",
   "metadata": {},
   "source": [
    "Let's confirm that our train and test splits do not have statistically different proportions of purchasers and/or mean spending. In this sense, higher p-values will confirm there is not a low chance they contain different distributions."
   ]
  },
  {
   "cell_type": "code",
   "execution_count": 330,
   "metadata": {},
   "outputs": [
    {
     "name": "stdout",
     "output_type": "stream",
     "text": [
      "Purchasers p-value: 0.47\n"
     ]
    }
   ],
   "source": [
    "import statsmodels.api as sm\n",
    "\n",
    "train_prop = y_train['Purchase'].value_counts()\n",
    "test_prop = y_test['Purchase'].value_counts()\n",
    "\n",
    "# confirm Purchase distribution is similar\n",
    "z_score, p_value = sm.stats.proportions_ztest(\n",
    "    count = [train_prop[1], test_prop[1]], \n",
    "    nobs = [train_prop.sum(), test_prop.sum()]\n",
    ")\n",
    "\n",
    "print(f\"Purchasers p-value: {p_value:.2f}\")"
   ]
  },
  {
   "cell_type": "code",
   "execution_count": 331,
   "metadata": {},
   "outputs": [
    {
     "name": "stdout",
     "output_type": "stream",
     "text": [
      "Spending p-value: 0.69\n"
     ]
    }
   ],
   "source": [
    "from scipy import stats\n",
    "\n",
    "# confirm spending distribution is similar\n",
    "t_stat, p_value = stats.ttest_ind(\n",
    "    y_train['Spending'], \n",
    "    y_test['Spending'], \n",
    "    equal_var = False\n",
    ")\n",
    "\n",
    "print(f\"Spending p-value: {p_value:.2f}\")"
   ]
  },
  {
   "cell_type": "code",
   "execution_count": 332,
   "metadata": {},
   "outputs": [
    {
     "data": {
      "text/html": [
       "<div>\n",
       "<style scoped>\n",
       "    .dataframe tbody tr th:only-of-type {\n",
       "        vertical-align: middle;\n",
       "    }\n",
       "\n",
       "    .dataframe tbody tr th {\n",
       "        vertical-align: top;\n",
       "    }\n",
       "\n",
       "    .dataframe thead th {\n",
       "        text-align: right;\n",
       "    }\n",
       "</style>\n",
       "<table border=\"1\" class=\"dataframe\">\n",
       "  <thead>\n",
       "    <tr style=\"text-align: right;\">\n",
       "      <th></th>\n",
       "      <th>count</th>\n",
       "      <th>mean</th>\n",
       "      <th>std</th>\n",
       "      <th>min</th>\n",
       "      <th>25%</th>\n",
       "      <th>50%</th>\n",
       "      <th>75%</th>\n",
       "      <th>max</th>\n",
       "    </tr>\n",
       "  </thead>\n",
       "  <tbody>\n",
       "    <tr>\n",
       "      <th>US</th>\n",
       "      <td>1500.0</td>\n",
       "      <td>0.82</td>\n",
       "      <td>0.38</td>\n",
       "      <td>0.0</td>\n",
       "      <td>1.0</td>\n",
       "      <td>1.0</td>\n",
       "      <td>1.00</td>\n",
       "      <td>1.0</td>\n",
       "    </tr>\n",
       "    <tr>\n",
       "      <th>source_a</th>\n",
       "      <td>1500.0</td>\n",
       "      <td>0.12</td>\n",
       "      <td>0.33</td>\n",
       "      <td>0.0</td>\n",
       "      <td>0.0</td>\n",
       "      <td>0.0</td>\n",
       "      <td>0.00</td>\n",
       "      <td>1.0</td>\n",
       "    </tr>\n",
       "    <tr>\n",
       "      <th>source_c</th>\n",
       "      <td>1500.0</td>\n",
       "      <td>0.05</td>\n",
       "      <td>0.23</td>\n",
       "      <td>0.0</td>\n",
       "      <td>0.0</td>\n",
       "      <td>0.0</td>\n",
       "      <td>0.00</td>\n",
       "      <td>1.0</td>\n",
       "    </tr>\n",
       "    <tr>\n",
       "      <th>source_b</th>\n",
       "      <td>1500.0</td>\n",
       "      <td>0.06</td>\n",
       "      <td>0.25</td>\n",
       "      <td>0.0</td>\n",
       "      <td>0.0</td>\n",
       "      <td>0.0</td>\n",
       "      <td>0.00</td>\n",
       "      <td>1.0</td>\n",
       "    </tr>\n",
       "    <tr>\n",
       "      <th>source_d</th>\n",
       "      <td>1500.0</td>\n",
       "      <td>0.04</td>\n",
       "      <td>0.20</td>\n",
       "      <td>0.0</td>\n",
       "      <td>0.0</td>\n",
       "      <td>0.0</td>\n",
       "      <td>0.00</td>\n",
       "      <td>1.0</td>\n",
       "    </tr>\n",
       "    <tr>\n",
       "      <th>source_e</th>\n",
       "      <td>1500.0</td>\n",
       "      <td>0.16</td>\n",
       "      <td>0.37</td>\n",
       "      <td>0.0</td>\n",
       "      <td>0.0</td>\n",
       "      <td>0.0</td>\n",
       "      <td>0.00</td>\n",
       "      <td>1.0</td>\n",
       "    </tr>\n",
       "    <tr>\n",
       "      <th>source_m</th>\n",
       "      <td>1500.0</td>\n",
       "      <td>0.02</td>\n",
       "      <td>0.12</td>\n",
       "      <td>0.0</td>\n",
       "      <td>0.0</td>\n",
       "      <td>0.0</td>\n",
       "      <td>0.00</td>\n",
       "      <td>1.0</td>\n",
       "    </tr>\n",
       "    <tr>\n",
       "      <th>source_o</th>\n",
       "      <td>1500.0</td>\n",
       "      <td>0.03</td>\n",
       "      <td>0.18</td>\n",
       "      <td>0.0</td>\n",
       "      <td>0.0</td>\n",
       "      <td>0.0</td>\n",
       "      <td>0.00</td>\n",
       "      <td>1.0</td>\n",
       "    </tr>\n",
       "    <tr>\n",
       "      <th>source_h</th>\n",
       "      <td>1500.0</td>\n",
       "      <td>0.05</td>\n",
       "      <td>0.22</td>\n",
       "      <td>0.0</td>\n",
       "      <td>0.0</td>\n",
       "      <td>0.0</td>\n",
       "      <td>0.00</td>\n",
       "      <td>1.0</td>\n",
       "    </tr>\n",
       "    <tr>\n",
       "      <th>source_r</th>\n",
       "      <td>1500.0</td>\n",
       "      <td>0.07</td>\n",
       "      <td>0.25</td>\n",
       "      <td>0.0</td>\n",
       "      <td>0.0</td>\n",
       "      <td>0.0</td>\n",
       "      <td>0.00</td>\n",
       "      <td>1.0</td>\n",
       "    </tr>\n",
       "    <tr>\n",
       "      <th>source_s</th>\n",
       "      <td>1500.0</td>\n",
       "      <td>0.04</td>\n",
       "      <td>0.21</td>\n",
       "      <td>0.0</td>\n",
       "      <td>0.0</td>\n",
       "      <td>0.0</td>\n",
       "      <td>0.00</td>\n",
       "      <td>1.0</td>\n",
       "    </tr>\n",
       "    <tr>\n",
       "      <th>source_t</th>\n",
       "      <td>1500.0</td>\n",
       "      <td>0.02</td>\n",
       "      <td>0.15</td>\n",
       "      <td>0.0</td>\n",
       "      <td>0.0</td>\n",
       "      <td>0.0</td>\n",
       "      <td>0.00</td>\n",
       "      <td>1.0</td>\n",
       "    </tr>\n",
       "    <tr>\n",
       "      <th>source_u</th>\n",
       "      <td>1500.0</td>\n",
       "      <td>0.12</td>\n",
       "      <td>0.32</td>\n",
       "      <td>0.0</td>\n",
       "      <td>0.0</td>\n",
       "      <td>0.0</td>\n",
       "      <td>0.00</td>\n",
       "      <td>1.0</td>\n",
       "    </tr>\n",
       "    <tr>\n",
       "      <th>source_p</th>\n",
       "      <td>1500.0</td>\n",
       "      <td>0.01</td>\n",
       "      <td>0.08</td>\n",
       "      <td>0.0</td>\n",
       "      <td>0.0</td>\n",
       "      <td>0.0</td>\n",
       "      <td>0.00</td>\n",
       "      <td>1.0</td>\n",
       "    </tr>\n",
       "    <tr>\n",
       "      <th>source_x</th>\n",
       "      <td>1500.0</td>\n",
       "      <td>0.02</td>\n",
       "      <td>0.13</td>\n",
       "      <td>0.0</td>\n",
       "      <td>0.0</td>\n",
       "      <td>0.0</td>\n",
       "      <td>0.00</td>\n",
       "      <td>1.0</td>\n",
       "    </tr>\n",
       "    <tr>\n",
       "      <th>source_w</th>\n",
       "      <td>1500.0</td>\n",
       "      <td>0.13</td>\n",
       "      <td>0.33</td>\n",
       "      <td>0.0</td>\n",
       "      <td>0.0</td>\n",
       "      <td>0.0</td>\n",
       "      <td>0.00</td>\n",
       "      <td>1.0</td>\n",
       "    </tr>\n",
       "    <tr>\n",
       "      <th>Freq</th>\n",
       "      <td>1500.0</td>\n",
       "      <td>1.43</td>\n",
       "      <td>1.46</td>\n",
       "      <td>0.0</td>\n",
       "      <td>1.0</td>\n",
       "      <td>1.0</td>\n",
       "      <td>2.00</td>\n",
       "      <td>15.0</td>\n",
       "    </tr>\n",
       "    <tr>\n",
       "      <th>last_update_days_ago</th>\n",
       "      <td>1500.0</td>\n",
       "      <td>2177.05</td>\n",
       "      <td>1133.07</td>\n",
       "      <td>1.0</td>\n",
       "      <td>1167.0</td>\n",
       "      <td>2321.0</td>\n",
       "      <td>3158.00</td>\n",
       "      <td>4188.0</td>\n",
       "    </tr>\n",
       "    <tr>\n",
       "      <th>1st_update_days_ago</th>\n",
       "      <td>1500.0</td>\n",
       "      <td>2450.15</td>\n",
       "      <td>1065.87</td>\n",
       "      <td>1.0</td>\n",
       "      <td>1710.0</td>\n",
       "      <td>2734.0</td>\n",
       "      <td>3339.25</td>\n",
       "      <td>4188.0</td>\n",
       "    </tr>\n",
       "    <tr>\n",
       "      <th>Web order</th>\n",
       "      <td>1500.0</td>\n",
       "      <td>0.41</td>\n",
       "      <td>0.49</td>\n",
       "      <td>0.0</td>\n",
       "      <td>0.0</td>\n",
       "      <td>0.0</td>\n",
       "      <td>1.00</td>\n",
       "      <td>1.0</td>\n",
       "    </tr>\n",
       "    <tr>\n",
       "      <th>Gender=male</th>\n",
       "      <td>1500.0</td>\n",
       "      <td>0.53</td>\n",
       "      <td>0.50</td>\n",
       "      <td>0.0</td>\n",
       "      <td>0.0</td>\n",
       "      <td>1.0</td>\n",
       "      <td>1.00</td>\n",
       "      <td>1.0</td>\n",
       "    </tr>\n",
       "    <tr>\n",
       "      <th>Address_is_res</th>\n",
       "      <td>1500.0</td>\n",
       "      <td>0.22</td>\n",
       "      <td>0.41</td>\n",
       "      <td>0.0</td>\n",
       "      <td>0.0</td>\n",
       "      <td>0.0</td>\n",
       "      <td>0.00</td>\n",
       "      <td>1.0</td>\n",
       "    </tr>\n",
       "  </tbody>\n",
       "</table>\n",
       "</div>"
      ],
      "text/plain": [
       "                       count     mean      std  min     25%     50%      75%  \\\n",
       "US                    1500.0     0.82     0.38  0.0     1.0     1.0     1.00   \n",
       "source_a              1500.0     0.12     0.33  0.0     0.0     0.0     0.00   \n",
       "source_c              1500.0     0.05     0.23  0.0     0.0     0.0     0.00   \n",
       "source_b              1500.0     0.06     0.25  0.0     0.0     0.0     0.00   \n",
       "source_d              1500.0     0.04     0.20  0.0     0.0     0.0     0.00   \n",
       "source_e              1500.0     0.16     0.37  0.0     0.0     0.0     0.00   \n",
       "source_m              1500.0     0.02     0.12  0.0     0.0     0.0     0.00   \n",
       "source_o              1500.0     0.03     0.18  0.0     0.0     0.0     0.00   \n",
       "source_h              1500.0     0.05     0.22  0.0     0.0     0.0     0.00   \n",
       "source_r              1500.0     0.07     0.25  0.0     0.0     0.0     0.00   \n",
       "source_s              1500.0     0.04     0.21  0.0     0.0     0.0     0.00   \n",
       "source_t              1500.0     0.02     0.15  0.0     0.0     0.0     0.00   \n",
       "source_u              1500.0     0.12     0.32  0.0     0.0     0.0     0.00   \n",
       "source_p              1500.0     0.01     0.08  0.0     0.0     0.0     0.00   \n",
       "source_x              1500.0     0.02     0.13  0.0     0.0     0.0     0.00   \n",
       "source_w              1500.0     0.13     0.33  0.0     0.0     0.0     0.00   \n",
       "Freq                  1500.0     1.43     1.46  0.0     1.0     1.0     2.00   \n",
       "last_update_days_ago  1500.0  2177.05  1133.07  1.0  1167.0  2321.0  3158.00   \n",
       "1st_update_days_ago   1500.0  2450.15  1065.87  1.0  1710.0  2734.0  3339.25   \n",
       "Web order             1500.0     0.41     0.49  0.0     0.0     0.0     1.00   \n",
       "Gender=male           1500.0     0.53     0.50  0.0     0.0     1.0     1.00   \n",
       "Address_is_res        1500.0     0.22     0.41  0.0     0.0     0.0     0.00   \n",
       "\n",
       "                         max  \n",
       "US                       1.0  \n",
       "source_a                 1.0  \n",
       "source_c                 1.0  \n",
       "source_b                 1.0  \n",
       "source_d                 1.0  \n",
       "source_e                 1.0  \n",
       "source_m                 1.0  \n",
       "source_o                 1.0  \n",
       "source_h                 1.0  \n",
       "source_r                 1.0  \n",
       "source_s                 1.0  \n",
       "source_t                 1.0  \n",
       "source_u                 1.0  \n",
       "source_p                 1.0  \n",
       "source_x                 1.0  \n",
       "source_w                 1.0  \n",
       "Freq                    15.0  \n",
       "last_update_days_ago  4188.0  \n",
       "1st_update_days_ago   4188.0  \n",
       "Web order                1.0  \n",
       "Gender=male              1.0  \n",
       "Address_is_res           1.0  "
      ]
     },
     "execution_count": 332,
     "metadata": {},
     "output_type": "execute_result"
    }
   ],
   "source": [
    "X_train.describe().T.round(2)"
   ]
  },
  {
   "cell_type": "code",
   "execution_count": 333,
   "metadata": {},
   "outputs": [
    {
     "data": {
      "text/html": [
       "<div>\n",
       "<style scoped>\n",
       "    .dataframe tbody tr th:only-of-type {\n",
       "        vertical-align: middle;\n",
       "    }\n",
       "\n",
       "    .dataframe tbody tr th {\n",
       "        vertical-align: top;\n",
       "    }\n",
       "\n",
       "    .dataframe thead th {\n",
       "        text-align: right;\n",
       "    }\n",
       "</style>\n",
       "<table border=\"1\" class=\"dataframe\">\n",
       "  <thead>\n",
       "    <tr style=\"text-align: right;\">\n",
       "      <th></th>\n",
       "      <th>count</th>\n",
       "      <th>mean</th>\n",
       "      <th>std</th>\n",
       "      <th>min</th>\n",
       "      <th>25%</th>\n",
       "      <th>50%</th>\n",
       "      <th>75%</th>\n",
       "      <th>max</th>\n",
       "    </tr>\n",
       "  </thead>\n",
       "  <tbody>\n",
       "    <tr>\n",
       "      <th>Spending</th>\n",
       "      <td>1500.0</td>\n",
       "      <td>101.65</td>\n",
       "      <td>187.05</td>\n",
       "      <td>0.0</td>\n",
       "      <td>0.0</td>\n",
       "      <td>0.0</td>\n",
       "      <td>150.0</td>\n",
       "      <td>1500.0</td>\n",
       "    </tr>\n",
       "    <tr>\n",
       "      <th>Purchase</th>\n",
       "      <td>1500.0</td>\n",
       "      <td>0.50</td>\n",
       "      <td>0.50</td>\n",
       "      <td>0.0</td>\n",
       "      <td>0.0</td>\n",
       "      <td>0.0</td>\n",
       "      <td>1.0</td>\n",
       "      <td>1.0</td>\n",
       "    </tr>\n",
       "  </tbody>\n",
       "</table>\n",
       "</div>"
      ],
      "text/plain": [
       "           count    mean     std  min  25%  50%    75%     max\n",
       "Spending  1500.0  101.65  187.05  0.0  0.0  0.0  150.0  1500.0\n",
       "Purchase  1500.0    0.50    0.50  0.0  0.0  0.0    1.0     1.0"
      ]
     },
     "execution_count": 333,
     "metadata": {},
     "output_type": "execute_result"
    }
   ],
   "source": [
    "y_train.describe().T.round(2)"
   ]
  },
  {
   "cell_type": "markdown",
   "metadata": {},
   "source": [
    "#### Visualize"
   ]
  },
  {
   "cell_type": "code",
   "execution_count": 334,
   "metadata": {},
   "outputs": [
    {
     "data": {
      "image/png": "[encoded data removed]",
      "text/plain": [
       "<Figure size 432x288 with 1 Axes>"
      ]
     },
     "metadata": {
      "needs_background": "light"
     },
     "output_type": "display_data"
    }
   ],
   "source": [
    "# visualize spending target\n",
    "y_train['Spending'].plot(kind = 'hist', bins = 30);"
   ]
  },
  {
   "cell_type": "code",
   "execution_count": 335,
   "metadata": {},
   "outputs": [
    {
     "data": {
      "image/png": "[encoded data removed]",
      "text/plain": [
       "<Figure size 432x288 with 1 Axes>"
      ]
     },
     "metadata": {
      "needs_background": "light"
     },
     "output_type": "display_data"
    }
   ],
   "source": [
    "spenders = y_train['Spending'] > 0\n",
    "\n",
    "np.log(y_train[spenders]['Spending']).plot(kind = 'hist', bins = 30);"
   ]
  },
  {
   "cell_type": "markdown",
   "metadata": {},
   "source": [
    "The spend distribution confirms that we will want to log-transform our spend variable in our modeling step."
   ]
  },
  {
   "cell_type": "code",
   "execution_count": 336,
   "metadata": {},
   "outputs": [
    {
     "data": {
      "image/png": "[encoded data removed]",
      "text/plain": [
       "<Figure size 576x216 with 2 Axes>"
      ]
     },
     "metadata": {
      "needs_background": "light"
     },
     "output_type": "display_data"
    }
   ],
   "source": [
    "days_cols = [x for x in X_train.columns if 'days' in x]\n",
    "\n",
    "X_train[days_cols].hist(bins = 25, figsize = (8,3));"
   ]
  },
  {
   "cell_type": "code",
   "execution_count": 608,
   "metadata": {},
   "outputs": [
    {
     "data": {
      "image/png": "[encoded data removed]",
      "text/plain": [
       "<Figure size 432x288 with 1 Axes>"
      ]
     },
     "metadata": {
      "needs_background": "light"
     },
     "output_type": "display_data"
    }
   ],
   "source": [
    "# one bin for each frequency bucket\n",
    "X_train['Freq'].hist(bins = 16);"
   ]
  },
  {
   "cell_type": "markdown",
   "metadata": {},
   "source": [
    "Depending on the initial performance, we may want to consider a transformation for frequency."
   ]
  },
  {
   "cell_type": "code",
   "execution_count": 338,
   "metadata": {},
   "outputs": [
    {
     "data": {
      "image/png": "[encoded data removed]",
      "text/plain": [
       "<Figure size 1080x720 with 2 Axes>"
      ]
     },
     "metadata": {
      "needs_background": "light"
     },
     "output_type": "display_data"
    }
   ],
   "source": [
    "# combine train X,y sets for correlation\n",
    "corr = pd.concat([X_train, y_train], axis = 1).corr()\n",
    "\n",
    "fig, ax = plt.subplots(figsize=(15,10))\n",
    "sns.heatmap(corr.round(2), \n",
    "            center = 0,\n",
    "            cmap = 'coolwarm',\n",
    "            annot = True);"
   ]
  },
  {
   "cell_type": "markdown",
   "metadata": {},
   "source": [
    "Some interesting observations of our correlation analysis:\n",
    "+ Source A & U are positively associated with purchase and spending\n",
    "+ Source H is negatively associated with purchase and spending\n",
    "+ Source H is correlated with residential addresses, so maybe our target is non-residential customers"
   ]
  },
  {
   "cell_type": "markdown",
   "metadata": {},
   "source": [
    "## Prototype"
   ]
  },
  {
   "cell_type": "markdown",
   "metadata": {},
   "source": [
    "First we will create a dummy classifier and regressor to understand what our baseline metrics are to improve. Our overall goal isn't to create a perfect classifier and regressor, but to identify which customers we can expect more value from to use to rank and target. "
   ]
  },
  {
   "cell_type": "code",
   "execution_count": 339,
   "metadata": {},
   "outputs": [
    {
     "name": "stdout",
     "output_type": "stream",
     "text": [
      "Baseline accuracy: 51.94%\n"
     ]
    }
   ],
   "source": [
    "from sklearn.model_selection import cross_val_score\n",
    "from sklearn.dummy import DummyClassifier\n",
    "\n",
    "dummy_cf = DummyClassifier(strategy = 'uniform', random_state = 1)\n",
    "dummy_cv_acc = cross_val_score(dummy_cf, X_train, \n",
    "                               y_train['Purchase'], \n",
    "                               scoring = 'accuracy',\n",
    "                               cv = 5)\n",
    "print(f\"Baseline accuracy: {np.mean(dummy_cv_acc) * 100:.2f}%\")"
   ]
  },
  {
   "cell_type": "code",
   "execution_count": 340,
   "metadata": {},
   "outputs": [],
   "source": [
    "# filter for just spenders from variable above\n",
    "y_train_reg = y_train[spenders]['Spending']\n",
    "X_train_reg = X_train.loc[spenders]"
   ]
  },
  {
   "cell_type": "code",
   "execution_count": 603,
   "metadata": {},
   "outputs": [
    {
     "name": "stdout",
     "output_type": "stream",
     "text": [
      "Baseline RMSE: $0.94\n"
     ]
    }
   ],
   "source": [
    "from sklearn.dummy import DummyRegressor\n",
    "\n",
    "dummy_reg = DummyRegressor(strategy = 'mean')\n",
    "dummy_cv_mse = cross_val_score(dummy_reg, X_train_reg, \n",
    "                               np.log(y_train_reg), \n",
    "                               scoring = 'neg_mean_squared_error',\n",
    "                               cv = 5)\n",
    "\n",
    "dummy_rmse = np.sqrt(-dummy_cv_mse)\n",
    "\n",
    "print(f\"Baseline RMSE: ${np.mean(dummy_rmse):.2f}\")"
   ]
  },
  {
   "cell_type": "markdown",
   "metadata": {},
   "source": [
    "#### Classification"
   ]
  },
  {
   "cell_type": "code",
   "execution_count": 342,
   "metadata": {},
   "outputs": [
    {
     "name": "stdout",
     "output_type": "stream",
     "text": [
      "Model accuracy: 80.87% +- 2.71%\n"
     ]
    }
   ],
   "source": [
    "from sklearn.linear_model import LogisticRegression\n",
    "\n",
    "# develop simple model pipeline\n",
    "logit = LogisticRegression()\n",
    "logit_cv_acc = cross_val_score(logit, X_train, \n",
    "                               y_train['Purchase'], \n",
    "                               scoring = 'accuracy',\n",
    "                               cv = 10)\n",
    "print(f\"Model accuracy: {np.mean(logit_cv_acc) * 100:.2f}% +- {np.std(logit_cv_acc) * 100:.2F}%\")"
   ]
  },
  {
   "cell_type": "markdown",
   "metadata": {},
   "source": [
    "The standard logistic regression provides decent accuracy over the cross-validation. We can use a grid search to see if we can improve that with different hyperparameters."
   ]
  },
  {
   "cell_type": "code",
   "execution_count": 343,
   "metadata": {},
   "outputs": [
    {
     "name": "stdout",
     "output_type": "stream",
     "text": [
      "Best Penalty: l2\n",
      "Best C: 1\n",
      "Best Score: 0.81\n"
     ]
    }
   ],
   "source": [
    "from sklearn.model_selection import GridSearchCV\n",
    "\n",
    "np.random.seed(1)\n",
    "\n",
    "# hyperparameters\n",
    "penalty = ['l1', 'l2']\n",
    "C = [0.001, 0.01, 0.1, 0.5, 1, 10, 100, 1000, 1e9]\n",
    "\n",
    "# create dictionary to search\n",
    "hyperparamters = dict(C = C, penalty = penalty)\n",
    "\n",
    "gridsearch = GridSearchCV(\n",
    "    logit, hyperparamters, scoring = 'accuracy', cv = 10, verbose = 0\n",
    ")\n",
    "\n",
    "best_logit = gridsearch.fit(X_train, y_train['Purchase'])\n",
    "\n",
    "print('Best Penalty:', best_logit.best_estimator_.get_params()['penalty'])\n",
    "print('Best C:', best_logit.best_estimator_.get_params()['C'])\n",
    "print('Best Score:', best_logit.best_score_.round(2))"
   ]
  },
  {
   "cell_type": "markdown",
   "metadata": {},
   "source": [
    "We see that there is no real improvement with other hyperparameters and can proceed with the standard logit model. 80% accuracy seems good enough for now, so we can proceed to our regression task. \n",
    "\n",
    "Note: A potential opportunity for improvement would be to try other algorithms, or even use H2O AutoML to select the best model for us to maximize accuracy. For the sake of time, we will proceed with our logit results."
   ]
  },
  {
   "cell_type": "code",
   "execution_count": 344,
   "metadata": {},
   "outputs": [
    {
     "name": "stdout",
     "output_type": "stream",
     "text": [
      "OLS RMSE: 0.80\n"
     ]
    }
   ],
   "source": [
    "from sklearn.linear_model import LinearRegression\n",
    "\n",
    "# develop simple model pipeline\n",
    "ols = LinearRegression()\n",
    "ols.fit(X_train_reg, np.log(y_train_reg))\n",
    "ols_cv_mse = cross_val_score(ols, X_train_reg, \n",
    "                             np.log(y_train_reg), \n",
    "                             scoring = 'neg_mean_squared_error',\n",
    "                             cv = 10)\n",
    "ols_rmse = np.sqrt(-ols_cv_mse)\n",
    "\n",
    "print(f\"OLS RMSE: {np.mean(ols_rmse):.2f}\")"
   ]
  },
  {
   "cell_type": "markdown",
   "metadata": {},
   "source": [
    "Our standard OLS model provides some improvement over baseline. We can try a tree model and grid search to see if we get any improvement. The goal here is just to identify the potential high spenders so that we rank them higher in the target distribution."
   ]
  },
  {
   "cell_type": "code",
   "execution_count": 604,
   "metadata": {},
   "outputs": [
    {
     "name": "stdout",
     "output_type": "stream",
     "text": [
      "Tree RMSE: $1.01\n"
     ]
    }
   ],
   "source": [
    "from sklearn.tree import DecisionTreeRegressor\n",
    "\n",
    "# develop simple model pipeline\n",
    "tree = DecisionTreeRegressor(random_state = 1)\n",
    "tree_cv_mse = cross_val_score(tree, X_train_reg, \n",
    "                             np.log(y_train_reg), \n",
    "                             scoring = 'neg_mean_squared_error',\n",
    "                             cv = 10)\n",
    "tree_rmse = np.sqrt(-tree_cv_mse)\n",
    "\n",
    "print(f\"Tree RMSE: ${np.mean(tree_rmse):.2f}\")"
   ]
  },
  {
   "cell_type": "code",
   "execution_count": 605,
   "metadata": {},
   "outputs": [
    {
     "name": "stdout",
     "output_type": "stream",
     "text": [
      "Best Criterion: mse\n",
      "Best Min Samples Depth: 2\n",
      "Best Max Depth: 4\n",
      "Best Min Samples Leaf: 10\n",
      "Best Max Leaf Nodes: 10\n",
      "Best Score: 0.82\n"
     ]
    }
   ],
   "source": [
    "from sklearn.tree import DecisionTreeRegressor\n",
    "\n",
    "# hyperparamters\n",
    "criterion = [\"mse\", \"mae\"]\n",
    "min_samples_split = [2, 5, 10, 20, 40]\n",
    "max_depth = [2, 4, 6, 8, 10]\n",
    "min_samples_leaf = [2, 5, 10, 20, 40, 100]\n",
    "max_leaf_nodes = [2, 5, 10, 20, 100]\n",
    "\n",
    "# create dictionary to search\n",
    "hyperparamters = dict(criterion = criterion,\n",
    "                      min_samples_split = min_samples_split,\n",
    "                      max_depth = max_depth,\n",
    "                      min_samples_leaf = min_samples_leaf,\n",
    "                      max_leaf_nodes = max_leaf_nodes)\n",
    "\n",
    "gridsearch = GridSearchCV(\n",
    "    tree, hyperparamters, scoring = 'neg_mean_squared_error',\n",
    "    cv = 10, verbose = 0\n",
    ")\n",
    "\n",
    "best_tree = gridsearch.fit(X_train_reg, np.log(y_train_reg))\n",
    "print('Best Criterion:', best_tree.best_estimator_.get_params()['criterion'])\n",
    "print('Best Min Samples Depth:', best_tree.best_estimator_.get_params()['min_samples_split'])\n",
    "print('Best Max Depth:', best_tree.best_estimator_.get_params()['max_depth'])\n",
    "print('Best Min Samples Leaf:', best_tree.best_estimator_.get_params()['min_samples_leaf'])\n",
    "print('Best Max Leaf Nodes:', best_tree.best_estimator_.get_params()['max_leaf_nodes'])\n",
    "print('Best Score:', np.sqrt(-best_tree.best_score_).round(2))"
   ]
  },
  {
   "cell_type": "markdown",
   "metadata": {},
   "source": [
    "Even after a grid search across several different hyperparamenters, the tree model doesn't out-perform the OLS model. For now, we can stick with the simpler model and proceed with performance testing. \n",
    "\n",
    "NOTE: If we needed improvement, we could try other models like Support Vectors , or even let H2O AutoML select the best model for us. "
   ]
  },
  {
   "cell_type": "markdown",
   "metadata": {},
   "source": [
    "## Test & Implement"
   ]
  },
  {
   "cell_type": "markdown",
   "metadata": {},
   "source": [
    "First we will generate the predictions on the test set and then rank customers in the test set by their expected profitability (predicted purchase probability * predicted spend - cost of targeting). \n",
    "\n",
    "Then we will evaluate the performance of different deciles and simulate potential performance if customers in the top deciles were targeted. The final output of this will be an expected range of profitability from targeting the top 180,000 scored customers. We'll base ur projected improvement using the 5% percentile of the simulations to taper expectations of performance (i.e., 95% of the simulations performed better than the numbers we will report)."
   ]
  },
  {
   "cell_type": "code",
   "execution_count": 376,
   "metadata": {},
   "outputs": [],
   "source": [
    "# generate probability of purchase\n",
    "y_test['pred_purchase'] = best_logit.predict_proba(X_test)[:,1]\n",
    "\n",
    "# generate predicted log spend\n",
    "y_test['pred_logspend'] = ols.predict(X_test)\n",
    "\n",
    "# transform predictions\n",
    "y_test['adjust_purchase_prob'] = y_test['pred_purchase'] * 0.107\n",
    "y_test['pred_spend'] = np.exp(y_test['pred_logspend'])\n",
    "\n",
    "# create expected value\n",
    "y_test['expected_value'] = y_test['pred_spend'] * y_test['adjust_purchase_prob']\n",
    "y_test['expected_profit'] = y_test['expected_value'] - 2\n",
    "\n",
    "# actual profit\n",
    "y_test['actual_profit'] = y_test['Spending'] - 2\n",
    "\n",
    "\n",
    "y_test['rank'] = (len(y_test) + 1) - y_test['expected_profit'].rank(method = 'first').astype(int)\n",
    "\n",
    "y_test['cumulative_profit'] = y_test.sort_values('rank', ascending = True)['actual_profit'].cumsum()"
   ]
  },
  {
   "cell_type": "code",
   "execution_count": 609,
   "metadata": {},
   "outputs": [
    {
     "data": {
      "text/html": [
       "<div>\n",
       "<style scoped>\n",
       "    .dataframe tbody tr th:only-of-type {\n",
       "        vertical-align: middle;\n",
       "    }\n",
       "\n",
       "    .dataframe tbody tr th {\n",
       "        vertical-align: top;\n",
       "    }\n",
       "\n",
       "    .dataframe thead th {\n",
       "        text-align: right;\n",
       "    }\n",
       "</style>\n",
       "<table border=\"1\" class=\"dataframe\">\n",
       "  <thead>\n",
       "    <tr style=\"text-align: right;\">\n",
       "      <th></th>\n",
       "      <th>Spending</th>\n",
       "      <th>Purchase</th>\n",
       "      <th>pred_purchase</th>\n",
       "      <th>pred_logspend</th>\n",
       "      <th>adjust_purchase_prob</th>\n",
       "      <th>pred_spend</th>\n",
       "      <th>expected_value</th>\n",
       "      <th>expected_profit</th>\n",
       "      <th>actual_profit</th>\n",
       "      <th>rank</th>\n",
       "      <th>cumulative_profit</th>\n",
       "      <th>decile</th>\n",
       "    </tr>\n",
       "    <tr>\n",
       "      <th>sequence_number</th>\n",
       "      <th></th>\n",
       "      <th></th>\n",
       "      <th></th>\n",
       "      <th></th>\n",
       "      <th></th>\n",
       "      <th></th>\n",
       "      <th></th>\n",
       "      <th></th>\n",
       "      <th></th>\n",
       "      <th></th>\n",
       "      <th></th>\n",
       "      <th></th>\n",
       "    </tr>\n",
       "  </thead>\n",
       "  <tbody>\n",
       "    <tr>\n",
       "      <th>618</th>\n",
       "      <td>1195</td>\n",
       "      <td>1</td>\n",
       "      <td>1.000000</td>\n",
       "      <td>7.756927</td>\n",
       "      <td>0.107000</td>\n",
       "      <td>2337.708962</td>\n",
       "      <td>250.134859</td>\n",
       "      <td>248.134859</td>\n",
       "      <td>1193</td>\n",
       "      <td>1</td>\n",
       "      <td>1193</td>\n",
       "      <td>1</td>\n",
       "    </tr>\n",
       "    <tr>\n",
       "      <th>835</th>\n",
       "      <td>1441</td>\n",
       "      <td>1</td>\n",
       "      <td>1.000000</td>\n",
       "      <td>7.668173</td>\n",
       "      <td>0.107000</td>\n",
       "      <td>2139.169966</td>\n",
       "      <td>228.891186</td>\n",
       "      <td>226.891186</td>\n",
       "      <td>1439</td>\n",
       "      <td>2</td>\n",
       "      <td>2632</td>\n",
       "      <td>1</td>\n",
       "    </tr>\n",
       "    <tr>\n",
       "      <th>1455</th>\n",
       "      <td>456</td>\n",
       "      <td>1</td>\n",
       "      <td>0.999159</td>\n",
       "      <td>6.081383</td>\n",
       "      <td>0.106910</td>\n",
       "      <td>437.634093</td>\n",
       "      <td>46.787481</td>\n",
       "      <td>44.787481</td>\n",
       "      <td>454</td>\n",
       "      <td>3</td>\n",
       "      <td>3086</td>\n",
       "      <td>1</td>\n",
       "    </tr>\n",
       "    <tr>\n",
       "      <th>1433</th>\n",
       "      <td>271</td>\n",
       "      <td>1</td>\n",
       "      <td>0.999808</td>\n",
       "      <td>6.028108</td>\n",
       "      <td>0.106979</td>\n",
       "      <td>414.929303</td>\n",
       "      <td>44.388919</td>\n",
       "      <td>42.388919</td>\n",
       "      <td>269</td>\n",
       "      <td>4</td>\n",
       "      <td>3355</td>\n",
       "      <td>1</td>\n",
       "    </tr>\n",
       "    <tr>\n",
       "      <th>553</th>\n",
       "      <td>585</td>\n",
       "      <td>1</td>\n",
       "      <td>0.999834</td>\n",
       "      <td>6.025179</td>\n",
       "      <td>0.106982</td>\n",
       "      <td>413.715785</td>\n",
       "      <td>44.260238</td>\n",
       "      <td>42.260238</td>\n",
       "      <td>583</td>\n",
       "      <td>5</td>\n",
       "      <td>3938</td>\n",
       "      <td>1</td>\n",
       "    </tr>\n",
       "  </tbody>\n",
       "</table>\n",
       "</div>"
      ],
      "text/plain": [
       "                 Spending  Purchase  pred_purchase  pred_logspend  \\\n",
       "sequence_number                                                     \n",
       "618                  1195         1       1.000000       7.756927   \n",
       "835                  1441         1       1.000000       7.668173   \n",
       "1455                  456         1       0.999159       6.081383   \n",
       "1433                  271         1       0.999808       6.028108   \n",
       "553                   585         1       0.999834       6.025179   \n",
       "\n",
       "                 adjust_purchase_prob   pred_spend  expected_value  \\\n",
       "sequence_number                                                      \n",
       "618                          0.107000  2337.708962      250.134859   \n",
       "835                          0.107000  2139.169966      228.891186   \n",
       "1455                         0.106910   437.634093       46.787481   \n",
       "1433                         0.106979   414.929303       44.388919   \n",
       "553                          0.106982   413.715785       44.260238   \n",
       "\n",
       "                 expected_profit  actual_profit  rank  cumulative_profit  \\\n",
       "sequence_number                                                            \n",
       "618                   248.134859           1193     1               1193   \n",
       "835                   226.891186           1439     2               2632   \n",
       "1455                   44.787481            454     3               3086   \n",
       "1433                   42.388919            269     4               3355   \n",
       "553                    42.260238            583     5               3938   \n",
       "\n",
       "                 decile  \n",
       "sequence_number          \n",
       "618                   1  \n",
       "835                   1  \n",
       "1455                  1  \n",
       "1433                  1  \n",
       "553                   1  "
      ]
     },
     "execution_count": 609,
     "metadata": {},
     "output_type": "execute_result"
    }
   ],
   "source": [
    "y_test.sort_values('rank', ascending = True).head()"
   ]
  },
  {
   "cell_type": "code",
   "execution_count": 610,
   "metadata": {},
   "outputs": [
    {
     "data": {
      "text/html": [
       "<div>\n",
       "<style scoped>\n",
       "    .dataframe tbody tr th:only-of-type {\n",
       "        vertical-align: middle;\n",
       "    }\n",
       "\n",
       "    .dataframe tbody tr th {\n",
       "        vertical-align: top;\n",
       "    }\n",
       "\n",
       "    .dataframe thead th {\n",
       "        text-align: right;\n",
       "    }\n",
       "</style>\n",
       "<table border=\"1\" class=\"dataframe\">\n",
       "  <thead>\n",
       "    <tr style=\"text-align: right;\">\n",
       "      <th></th>\n",
       "      <th>Spending</th>\n",
       "      <th>Purchase</th>\n",
       "      <th>pred_purchase</th>\n",
       "      <th>pred_logspend</th>\n",
       "      <th>adjust_purchase_prob</th>\n",
       "      <th>pred_spend</th>\n",
       "      <th>expected_value</th>\n",
       "      <th>expected_profit</th>\n",
       "      <th>actual_profit</th>\n",
       "      <th>rank</th>\n",
       "      <th>cumulative_profit</th>\n",
       "      <th>decile</th>\n",
       "    </tr>\n",
       "    <tr>\n",
       "      <th>sequence_number</th>\n",
       "      <th></th>\n",
       "      <th></th>\n",
       "      <th></th>\n",
       "      <th></th>\n",
       "      <th></th>\n",
       "      <th></th>\n",
       "      <th></th>\n",
       "      <th></th>\n",
       "      <th></th>\n",
       "      <th></th>\n",
       "      <th></th>\n",
       "      <th></th>\n",
       "    </tr>\n",
       "  </thead>\n",
       "  <tbody>\n",
       "    <tr>\n",
       "      <th>531</th>\n",
       "      <td>0</td>\n",
       "      <td>0</td>\n",
       "      <td>0.020586</td>\n",
       "      <td>4.624082</td>\n",
       "      <td>0.002203</td>\n",
       "      <td>101.909166</td>\n",
       "      <td>0.224473</td>\n",
       "      <td>-1.775527</td>\n",
       "      <td>-2</td>\n",
       "      <td>496</td>\n",
       "      <td>51783</td>\n",
       "      <td>10</td>\n",
       "    </tr>\n",
       "    <tr>\n",
       "      <th>430</th>\n",
       "      <td>0</td>\n",
       "      <td>0</td>\n",
       "      <td>0.028341</td>\n",
       "      <td>4.303632</td>\n",
       "      <td>0.003032</td>\n",
       "      <td>73.967971</td>\n",
       "      <td>0.224303</td>\n",
       "      <td>-1.775697</td>\n",
       "      <td>-2</td>\n",
       "      <td>497</td>\n",
       "      <td>51781</td>\n",
       "      <td>10</td>\n",
       "    </tr>\n",
       "    <tr>\n",
       "      <th>1820</th>\n",
       "      <td>0</td>\n",
       "      <td>0</td>\n",
       "      <td>0.020572</td>\n",
       "      <td>4.623587</td>\n",
       "      <td>0.002201</td>\n",
       "      <td>101.858745</td>\n",
       "      <td>0.224216</td>\n",
       "      <td>-1.775784</td>\n",
       "      <td>-2</td>\n",
       "      <td>498</td>\n",
       "      <td>51779</td>\n",
       "      <td>10</td>\n",
       "    </tr>\n",
       "    <tr>\n",
       "      <th>758</th>\n",
       "      <td>0</td>\n",
       "      <td>0</td>\n",
       "      <td>0.035068</td>\n",
       "      <td>3.958851</td>\n",
       "      <td>0.003752</td>\n",
       "      <td>52.397082</td>\n",
       "      <td>0.196609</td>\n",
       "      <td>-1.803391</td>\n",
       "      <td>-2</td>\n",
       "      <td>499</td>\n",
       "      <td>51777</td>\n",
       "      <td>10</td>\n",
       "    </tr>\n",
       "    <tr>\n",
       "      <th>781</th>\n",
       "      <td>0</td>\n",
       "      <td>0</td>\n",
       "      <td>0.010397</td>\n",
       "      <td>3.473174</td>\n",
       "      <td>0.001112</td>\n",
       "      <td>32.238918</td>\n",
       "      <td>0.035864</td>\n",
       "      <td>-1.964136</td>\n",
       "      <td>-2</td>\n",
       "      <td>500</td>\n",
       "      <td>51775</td>\n",
       "      <td>10</td>\n",
       "    </tr>\n",
       "  </tbody>\n",
       "</table>\n",
       "</div>"
      ],
      "text/plain": [
       "                 Spending  Purchase  pred_purchase  pred_logspend  \\\n",
       "sequence_number                                                     \n",
       "531                     0         0       0.020586       4.624082   \n",
       "430                     0         0       0.028341       4.303632   \n",
       "1820                    0         0       0.020572       4.623587   \n",
       "758                     0         0       0.035068       3.958851   \n",
       "781                     0         0       0.010397       3.473174   \n",
       "\n",
       "                 adjust_purchase_prob  pred_spend  expected_value  \\\n",
       "sequence_number                                                     \n",
       "531                          0.002203  101.909166        0.224473   \n",
       "430                          0.003032   73.967971        0.224303   \n",
       "1820                         0.002201  101.858745        0.224216   \n",
       "758                          0.003752   52.397082        0.196609   \n",
       "781                          0.001112   32.238918        0.035864   \n",
       "\n",
       "                 expected_profit  actual_profit  rank  cumulative_profit  \\\n",
       "sequence_number                                                            \n",
       "531                    -1.775527             -2   496              51783   \n",
       "430                    -1.775697             -2   497              51781   \n",
       "1820                   -1.775784             -2   498              51779   \n",
       "758                    -1.803391             -2   499              51777   \n",
       "781                    -1.964136             -2   500              51775   \n",
       "\n",
       "                 decile  \n",
       "sequence_number          \n",
       "531                  10  \n",
       "430                  10  \n",
       "1820                 10  \n",
       "758                  10  \n",
       "781                  10  "
      ]
     },
     "execution_count": 610,
     "metadata": {},
     "output_type": "execute_result"
    }
   ],
   "source": [
    "y_test.sort_values('rank', ascending = True).tail()"
   ]
  },
  {
   "cell_type": "markdown",
   "metadata": {},
   "source": [
    "After getting our test data performance calculated, we can view the summary statitics of the test data variables. "
   ]
  },
  {
   "cell_type": "code",
   "execution_count": 380,
   "metadata": {},
   "outputs": [
    {
     "data": {
      "text/html": [
       "<div>\n",
       "<style scoped>\n",
       "    .dataframe tbody tr th:only-of-type {\n",
       "        vertical-align: middle;\n",
       "    }\n",
       "\n",
       "    .dataframe tbody tr th {\n",
       "        vertical-align: top;\n",
       "    }\n",
       "\n",
       "    .dataframe thead th {\n",
       "        text-align: right;\n",
       "    }\n",
       "</style>\n",
       "<table border=\"1\" class=\"dataframe\">\n",
       "  <thead>\n",
       "    <tr style=\"text-align: right;\">\n",
       "      <th></th>\n",
       "      <th>count</th>\n",
       "      <th>mean</th>\n",
       "      <th>std</th>\n",
       "      <th>min</th>\n",
       "      <th>25%</th>\n",
       "      <th>50%</th>\n",
       "      <th>75%</th>\n",
       "      <th>max</th>\n",
       "    </tr>\n",
       "  </thead>\n",
       "  <tbody>\n",
       "    <tr>\n",
       "      <th>Spending</th>\n",
       "      <td>500.0</td>\n",
       "      <td>105.55</td>\n",
       "      <td>186.12</td>\n",
       "      <td>0.00</td>\n",
       "      <td>0.00</td>\n",
       "      <td>28.50</td>\n",
       "      <td>159.25</td>\n",
       "      <td>1441.00</td>\n",
       "    </tr>\n",
       "    <tr>\n",
       "      <th>Purchase</th>\n",
       "      <td>500.0</td>\n",
       "      <td>0.51</td>\n",
       "      <td>0.50</td>\n",
       "      <td>0.00</td>\n",
       "      <td>0.00</td>\n",
       "      <td>1.00</td>\n",
       "      <td>1.00</td>\n",
       "      <td>1.00</td>\n",
       "    </tr>\n",
       "    <tr>\n",
       "      <th>pred_purchase</th>\n",
       "      <td>500.0</td>\n",
       "      <td>0.52</td>\n",
       "      <td>0.33</td>\n",
       "      <td>0.01</td>\n",
       "      <td>0.19</td>\n",
       "      <td>0.54</td>\n",
       "      <td>0.82</td>\n",
       "      <td>1.00</td>\n",
       "    </tr>\n",
       "    <tr>\n",
       "      <th>pred_logspend</th>\n",
       "      <td>500.0</td>\n",
       "      <td>4.66</td>\n",
       "      <td>0.47</td>\n",
       "      <td>3.47</td>\n",
       "      <td>4.39</td>\n",
       "      <td>4.66</td>\n",
       "      <td>4.89</td>\n",
       "      <td>7.76</td>\n",
       "    </tr>\n",
       "    <tr>\n",
       "      <th>adjust_purchase_prob</th>\n",
       "      <td>500.0</td>\n",
       "      <td>0.06</td>\n",
       "      <td>0.04</td>\n",
       "      <td>0.00</td>\n",
       "      <td>0.02</td>\n",
       "      <td>0.06</td>\n",
       "      <td>0.09</td>\n",
       "      <td>0.11</td>\n",
       "    </tr>\n",
       "    <tr>\n",
       "      <th>pred_spend</th>\n",
       "      <td>500.0</td>\n",
       "      <td>123.54</td>\n",
       "      <td>146.05</td>\n",
       "      <td>32.24</td>\n",
       "      <td>80.25</td>\n",
       "      <td>105.42</td>\n",
       "      <td>132.77</td>\n",
       "      <td>2337.71</td>\n",
       "    </tr>\n",
       "    <tr>\n",
       "      <th>expected_value</th>\n",
       "      <td>500.0</td>\n",
       "      <td>8.66</td>\n",
       "      <td>16.65</td>\n",
       "      <td>0.04</td>\n",
       "      <td>1.99</td>\n",
       "      <td>5.42</td>\n",
       "      <td>10.58</td>\n",
       "      <td>250.13</td>\n",
       "    </tr>\n",
       "    <tr>\n",
       "      <th>expected_profit</th>\n",
       "      <td>500.0</td>\n",
       "      <td>6.66</td>\n",
       "      <td>16.65</td>\n",
       "      <td>-1.96</td>\n",
       "      <td>-0.01</td>\n",
       "      <td>3.42</td>\n",
       "      <td>8.58</td>\n",
       "      <td>248.13</td>\n",
       "    </tr>\n",
       "    <tr>\n",
       "      <th>actual_profit</th>\n",
       "      <td>500.0</td>\n",
       "      <td>103.55</td>\n",
       "      <td>186.12</td>\n",
       "      <td>-2.00</td>\n",
       "      <td>-2.00</td>\n",
       "      <td>26.50</td>\n",
       "      <td>157.25</td>\n",
       "      <td>1439.00</td>\n",
       "    </tr>\n",
       "    <tr>\n",
       "      <th>rank</th>\n",
       "      <td>500.0</td>\n",
       "      <td>250.50</td>\n",
       "      <td>144.48</td>\n",
       "      <td>1.00</td>\n",
       "      <td>125.75</td>\n",
       "      <td>250.50</td>\n",
       "      <td>375.25</td>\n",
       "      <td>500.00</td>\n",
       "    </tr>\n",
       "    <tr>\n",
       "      <th>cumulative_profit</th>\n",
       "      <td>500.0</td>\n",
       "      <td>40567.96</td>\n",
       "      <td>12655.11</td>\n",
       "      <td>1193.00</td>\n",
       "      <td>33548.50</td>\n",
       "      <td>45132.50</td>\n",
       "      <td>51016.50</td>\n",
       "      <td>51923.00</td>\n",
       "    </tr>\n",
       "  </tbody>\n",
       "</table>\n",
       "</div>"
      ],
      "text/plain": [
       "                      count      mean       std      min       25%       50%  \\\n",
       "Spending              500.0    105.55    186.12     0.00      0.00     28.50   \n",
       "Purchase              500.0      0.51      0.50     0.00      0.00      1.00   \n",
       "pred_purchase         500.0      0.52      0.33     0.01      0.19      0.54   \n",
       "pred_logspend         500.0      4.66      0.47     3.47      4.39      4.66   \n",
       "adjust_purchase_prob  500.0      0.06      0.04     0.00      0.02      0.06   \n",
       "pred_spend            500.0    123.54    146.05    32.24     80.25    105.42   \n",
       "expected_value        500.0      8.66     16.65     0.04      1.99      5.42   \n",
       "expected_profit       500.0      6.66     16.65    -1.96     -0.01      3.42   \n",
       "actual_profit         500.0    103.55    186.12    -2.00     -2.00     26.50   \n",
       "rank                  500.0    250.50    144.48     1.00    125.75    250.50   \n",
       "cumulative_profit     500.0  40567.96  12655.11  1193.00  33548.50  45132.50   \n",
       "\n",
       "                           75%       max  \n",
       "Spending                159.25   1441.00  \n",
       "Purchase                  1.00      1.00  \n",
       "pred_purchase             0.82      1.00  \n",
       "pred_logspend             4.89      7.76  \n",
       "adjust_purchase_prob      0.09      0.11  \n",
       "pred_spend              132.77   2337.71  \n",
       "expected_value           10.58    250.13  \n",
       "expected_profit           8.58    248.13  \n",
       "actual_profit           157.25   1439.00  \n",
       "rank                    375.25    500.00  \n",
       "cumulative_profit     51016.50  51923.00  "
      ]
     },
     "execution_count": 380,
     "metadata": {},
     "output_type": "execute_result"
    }
   ],
   "source": [
    "y_test.describe().round(2).T"
   ]
  },
  {
   "cell_type": "markdown",
   "metadata": {},
   "source": [
    "#### Performance Evaluation"
   ]
  },
  {
   "cell_type": "code",
   "execution_count": 451,
   "metadata": {},
   "outputs": [
    {
     "data": {
      "text/html": [
       "<div>\n",
       "<style scoped>\n",
       "    .dataframe tbody tr th:only-of-type {\n",
       "        vertical-align: middle;\n",
       "    }\n",
       "\n",
       "    .dataframe tbody tr th {\n",
       "        vertical-align: top;\n",
       "    }\n",
       "\n",
       "    .dataframe thead th {\n",
       "        text-align: right;\n",
       "    }\n",
       "</style>\n",
       "<table border=\"1\" class=\"dataframe\">\n",
       "  <thead>\n",
       "    <tr style=\"text-align: right;\">\n",
       "      <th>Predicted</th>\n",
       "      <th>0</th>\n",
       "      <th>1</th>\n",
       "      <th>All</th>\n",
       "    </tr>\n",
       "    <tr>\n",
       "      <th>True</th>\n",
       "      <th></th>\n",
       "      <th></th>\n",
       "      <th></th>\n",
       "    </tr>\n",
       "  </thead>\n",
       "  <tbody>\n",
       "    <tr>\n",
       "      <th>0</th>\n",
       "      <td>196</td>\n",
       "      <td>47</td>\n",
       "      <td>243</td>\n",
       "    </tr>\n",
       "    <tr>\n",
       "      <th>1</th>\n",
       "      <td>47</td>\n",
       "      <td>210</td>\n",
       "      <td>257</td>\n",
       "    </tr>\n",
       "    <tr>\n",
       "      <th>All</th>\n",
       "      <td>243</td>\n",
       "      <td>257</td>\n",
       "      <td>500</td>\n",
       "    </tr>\n",
       "  </tbody>\n",
       "</table>\n",
       "</div>"
      ],
      "text/plain": [
       "Predicted    0    1  All\n",
       "True                    \n",
       "0          196   47  243\n",
       "1           47  210  257\n",
       "All        243  257  500"
      ]
     },
     "execution_count": 451,
     "metadata": {},
     "output_type": "execute_result"
    }
   ],
   "source": [
    "# compute confusion matrix\n",
    "pd.crosstab(y_test['Purchase'], \n",
    "            np.where(y_test['pred_purchase'] > .5, 1, 0), \n",
    "            rownames = ['True'], colnames = ['Predicted'], margins = True)"
   ]
  },
  {
   "cell_type": "code",
   "execution_count": 614,
   "metadata": {},
   "outputs": [
    {
     "name": "stdout",
     "output_type": "stream",
     "text": [
      "Test Set Accuracy: 0.812\n"
     ]
    }
   ],
   "source": [
    "test_accuracy = (y_test['Purchase'] == np.where(y_test['pred_purchase'] > .5, 1, 0)).mean()\n",
    "\n",
    "print(\"Test Set Accuracy:\", test_accuracy)"
   ]
  },
  {
   "cell_type": "markdown",
   "metadata": {},
   "source": [
    "We see our test set has an accuracy of 81% which is very similar to our training cross-validation performance. "
   ]
  },
  {
   "cell_type": "code",
   "execution_count": 406,
   "metadata": {},
   "outputs": [],
   "source": [
    "# add deciles\n",
    "y_test['decile'] = pd.qcut(y_test['expected_profit'], 10, labels = range(10,0,-1)).astype(int)"
   ]
  },
  {
   "cell_type": "code",
   "execution_count": 407,
   "metadata": {},
   "outputs": [
    {
     "data": {
      "text/html": [
       "<div>\n",
       "<style scoped>\n",
       "    .dataframe tbody tr th:only-of-type {\n",
       "        vertical-align: middle;\n",
       "    }\n",
       "\n",
       "    .dataframe tbody tr th {\n",
       "        vertical-align: top;\n",
       "    }\n",
       "\n",
       "    .dataframe thead th {\n",
       "        text-align: right;\n",
       "    }\n",
       "</style>\n",
       "<table border=\"1\" class=\"dataframe\">\n",
       "  <thead>\n",
       "    <tr style=\"text-align: right;\">\n",
       "      <th></th>\n",
       "      <th>Spending</th>\n",
       "      <th>Purchase</th>\n",
       "      <th>pred_purchase</th>\n",
       "      <th>pred_logspend</th>\n",
       "      <th>adjust_purchase_prob</th>\n",
       "      <th>pred_spend</th>\n",
       "      <th>expected_value</th>\n",
       "      <th>expected_profit</th>\n",
       "      <th>actual_profit</th>\n",
       "      <th>rank</th>\n",
       "      <th>cumulative_profit</th>\n",
       "      <th>decile</th>\n",
       "    </tr>\n",
       "    <tr>\n",
       "      <th>sequence_number</th>\n",
       "      <th></th>\n",
       "      <th></th>\n",
       "      <th></th>\n",
       "      <th></th>\n",
       "      <th></th>\n",
       "      <th></th>\n",
       "      <th></th>\n",
       "      <th></th>\n",
       "      <th></th>\n",
       "      <th></th>\n",
       "      <th></th>\n",
       "      <th></th>\n",
       "    </tr>\n",
       "  </thead>\n",
       "  <tbody>\n",
       "    <tr>\n",
       "      <th>1861</th>\n",
       "      <td>105</td>\n",
       "      <td>1</td>\n",
       "      <td>0.603194</td>\n",
       "      <td>4.938441</td>\n",
       "      <td>0.064542</td>\n",
       "      <td>139.552474</td>\n",
       "      <td>9.006963</td>\n",
       "      <td>7.006963</td>\n",
       "      <td>103</td>\n",
       "      <td>161</td>\n",
       "      <td>37670</td>\n",
       "      <td>4</td>\n",
       "    </tr>\n",
       "    <tr>\n",
       "      <th>354</th>\n",
       "      <td>25</td>\n",
       "      <td>1</td>\n",
       "      <td>0.789013</td>\n",
       "      <td>4.719226</td>\n",
       "      <td>0.084424</td>\n",
       "      <td>112.081519</td>\n",
       "      <td>9.462418</td>\n",
       "      <td>7.462418</td>\n",
       "      <td>23</td>\n",
       "      <td>150</td>\n",
       "      <td>36516</td>\n",
       "      <td>3</td>\n",
       "    </tr>\n",
       "    <tr>\n",
       "      <th>1334</th>\n",
       "      <td>161</td>\n",
       "      <td>1</td>\n",
       "      <td>0.624590</td>\n",
       "      <td>4.562167</td>\n",
       "      <td>0.066831</td>\n",
       "      <td>95.790809</td>\n",
       "      <td>6.401804</td>\n",
       "      <td>4.401804</td>\n",
       "      <td>159</td>\n",
       "      <td>226</td>\n",
       "      <td>43493</td>\n",
       "      <td>5</td>\n",
       "    </tr>\n",
       "    <tr>\n",
       "      <th>906</th>\n",
       "      <td>130</td>\n",
       "      <td>1</td>\n",
       "      <td>0.231869</td>\n",
       "      <td>4.367560</td>\n",
       "      <td>0.024810</td>\n",
       "      <td>78.851008</td>\n",
       "      <td>1.956296</td>\n",
       "      <td>-0.043704</td>\n",
       "      <td>128</td>\n",
       "      <td>376</td>\n",
       "      <td>51103</td>\n",
       "      <td>8</td>\n",
       "    </tr>\n",
       "    <tr>\n",
       "      <th>1290</th>\n",
       "      <td>0</td>\n",
       "      <td>0</td>\n",
       "      <td>0.062616</td>\n",
       "      <td>4.345628</td>\n",
       "      <td>0.006700</td>\n",
       "      <td>77.140445</td>\n",
       "      <td>0.516834</td>\n",
       "      <td>-1.483166</td>\n",
       "      <td>-2</td>\n",
       "      <td>439</td>\n",
       "      <td>51897</td>\n",
       "      <td>9</td>\n",
       "    </tr>\n",
       "  </tbody>\n",
       "</table>\n",
       "</div>"
      ],
      "text/plain": [
       "                 Spending  Purchase  pred_purchase  pred_logspend  \\\n",
       "sequence_number                                                     \n",
       "1861                  105         1       0.603194       4.938441   \n",
       "354                    25         1       0.789013       4.719226   \n",
       "1334                  161         1       0.624590       4.562167   \n",
       "906                   130         1       0.231869       4.367560   \n",
       "1290                    0         0       0.062616       4.345628   \n",
       "\n",
       "                 adjust_purchase_prob  pred_spend  expected_value  \\\n",
       "sequence_number                                                     \n",
       "1861                         0.064542  139.552474        9.006963   \n",
       "354                          0.084424  112.081519        9.462418   \n",
       "1334                         0.066831   95.790809        6.401804   \n",
       "906                          0.024810   78.851008        1.956296   \n",
       "1290                         0.006700   77.140445        0.516834   \n",
       "\n",
       "                 expected_profit  actual_profit  rank  cumulative_profit  \\\n",
       "sequence_number                                                            \n",
       "1861                    7.006963            103   161              37670   \n",
       "354                     7.462418             23   150              36516   \n",
       "1334                    4.401804            159   226              43493   \n",
       "906                    -0.043704            128   376              51103   \n",
       "1290                   -1.483166             -2   439              51897   \n",
       "\n",
       "                 decile  \n",
       "sequence_number          \n",
       "1861                  4  \n",
       "354                   3  \n",
       "1334                  5  \n",
       "906                   8  \n",
       "1290                  9  "
      ]
     },
     "execution_count": 407,
     "metadata": {},
     "output_type": "execute_result"
    }
   ],
   "source": [
    "y_test.head()"
   ]
  },
  {
   "cell_type": "code",
   "execution_count": 617,
   "metadata": {},
   "outputs": [
    {
     "data": {
      "image/png": "[encoded data removed]",
      "text/plain": [
       "<Figure size 432x288 with 1 Axes>"
      ]
     },
     "metadata": {
      "needs_background": "light"
     },
     "output_type": "display_data"
    }
   ],
   "source": [
    "ax = sns.lineplot(x = \"rank\", y = \"cumulative_profit\",\n",
    "             data = y_test)\n",
    "ax.set_title(\"Cumulative Profit\");"
   ]
  },
  {
   "cell_type": "markdown",
   "metadata": {},
   "source": [
    "We can then group our data by the decile ranking (based on expected profit) to see how performance varies across the sample. "
   ]
  },
  {
   "cell_type": "code",
   "execution_count": 429,
   "metadata": {},
   "outputs": [],
   "source": [
    "y_test_grp_sum = y_test.groupby('decile').sum().reset_index()\n",
    "y_test_grp_avg = y_test.groupby('decile').mean().reset_index()\n",
    "\n",
    "y_test_grp_avg['avg_expected_profit'] = y_test_grp_avg['adjust_purchase_prob'] * \\\n",
    "                                            y_test_grp_avg['Spending']"
   ]
  },
  {
   "cell_type": "markdown",
   "metadata": {},
   "source": [
    "Below we see that the top two deciles contain the most profitable customers. "
   ]
  },
  {
   "cell_type": "code",
   "execution_count": 442,
   "metadata": {},
   "outputs": [
    {
     "data": {
      "image/png": "[encoded data removed]",
      "text/plain": [
       "<Figure size 432x288 with 1 Axes>"
      ]
     },
     "metadata": {
      "needs_background": "light"
     },
     "output_type": "display_data"
    }
   ],
   "source": [
    "ax = sns.barplot(x = \"decile\", y = \"Spending\", data = y_test, palette = \"RdBu\")\n",
    "ax.set_title(\"Average Spend Per Customer\");"
   ]
  },
  {
   "cell_type": "markdown",
   "metadata": {},
   "source": [
    "Additionally, the top four deciles have the highest percentage of purchasers. There do not appear to be any purchasers in the last decile. "
   ]
  },
  {
   "cell_type": "code",
   "execution_count": 441,
   "metadata": {},
   "outputs": [
    {
     "data": {
      "image/png": "[encoded data removed]",
      "text/plain": [
       "<Figure size 432x288 with 1 Axes>"
      ]
     },
     "metadata": {
      "needs_background": "light"
     },
     "output_type": "display_data"
    }
   ],
   "source": [
    "ax = sns.barplot(x = \"decile\", y = \"Purchase\", data = y_test, palette = \"RdBu\")\n",
    "ax.set_title(\"Customer Purchase %\");"
   ]
  },
  {
   "cell_type": "markdown",
   "metadata": {},
   "source": [
    "As a result, the top decile by far has the most total profit, which deciles two and three having a good amount of profit. "
   ]
  },
  {
   "cell_type": "code",
   "execution_count": 428,
   "metadata": {},
   "outputs": [
    {
     "data": {
      "image/png": "[encoded data removed]",
      "text/plain": [
       "<Figure size 432x288 with 1 Axes>"
      ]
     },
     "metadata": {
      "needs_background": "light"
     },
     "output_type": "display_data"
    }
   ],
   "source": [
    "ax = sns.barplot(x = \"decile\", y = \"actual_profit\", data = y_test_grp_sum, palette = \"RdBu\")\n",
    "ax.set_title(\"Total Profit Per Decile\");"
   ]
  },
  {
   "cell_type": "markdown",
   "metadata": {},
   "source": [
    "Using the baseline profit per customer (dashed line), we see an increase in expected profit per customer over the baseline in the top three deciles. The second chart shows the top decile has an expected lift of almost 5x over the baseline of a random send. The second decile has a lift of over 2x. While we need only the top 3.6% of customers, we could score and target the top 30% and expect to do better than randomly targeting customers."
   ]
  },
  {
   "cell_type": "code",
   "execution_count": 437,
   "metadata": {},
   "outputs": [
    {
     "data": {
      "image/png": "[encoded data removed]",
      "text/plain": [
       "<Figure size 432x288 with 1 Axes>"
      ]
     },
     "metadata": {
      "needs_background": "light"
     },
     "output_type": "display_data"
    }
   ],
   "source": [
    "# from objective 1 \n",
    "random_expected_per_customer = random_gross_profit / sendout_size\n",
    "\n",
    "ax = sns.barplot(x = \"decile\", y = \"avg_expected_profit\", data = y_test_grp_avg, palette = \"RdBu\")\n",
    "ax.axhline(random_expected_per_customer, ls = '--', c = \"grey\")\n",
    "ax.set_title(\"Expected Profit Per Customer\");"
   ]
  },
  {
   "cell_type": "code",
   "execution_count": 439,
   "metadata": {},
   "outputs": [
    {
     "data": {
      "image/png": "[encoded data removed]",
      "text/plain": [
       "<Figure size 432x288 with 1 Axes>"
      ]
     },
     "metadata": {
      "needs_background": "light"
     },
     "output_type": "display_data"
    }
   ],
   "source": [
    "y_test_grp_avg['lift'] = y_test_grp_avg['avg_expected_profit'] / random_expected_per_customer\n",
    "\n",
    "ax = sns.barplot(x = \"decile\", y = \"lift\", data = y_test_grp_avg, palette = \"RdBu\")\n",
    "ax.axhline(1, ls = '--', c = \"grey\")\n",
    "ax.set_title(\"Expected Profit Per Customer Lift\");"
   ]
  },
  {
   "cell_type": "markdown",
   "metadata": {},
   "source": [
    "#### Expected Gross Profit of Targeted Sendout"
   ]
  },
  {
   "cell_type": "markdown",
   "metadata": {},
   "source": [
    "To get a better idea of the profit potential, we will simulate a bunch of sendouts targeting the top 20% of our test dataset and record the profit of each trial sendout. This will give us an idea of the potential profit distribution. \n",
    "\n",
    "For each trial, we will bootstrap sample 180,000 customers from the top two deciles. Then for each customer, we will simulate whether or not they make a purchase based on their adjusted purchase probability. If they make a purchase, we will record the amount they spend in the test sendout. We then will subtract the cost of targeting them (-\\\\$360,000 in total). Then we will record the total profit. Then repeat for k total simulation trials. "
   ]
  },
  {
   "cell_type": "code",
   "execution_count": 556,
   "metadata": {},
   "outputs": [],
   "source": [
    "# only top 20% of customers are selected\n",
    "top_deciles = y_test['decile'] <= 2\n",
    "\n",
    "# create sampling frame of selected customers\n",
    "sample_cols = ['Spending', 'adjust_purchase_prob']\n",
    "sample_frame = y_test.loc[top_deciles, sample_cols]\n",
    "\n",
    "# generate sample of sample_size customers from sample frame\n",
    "# return sum of profit from sample\n",
    "def sendout_simulation_trial(sample_size):\n",
    "    sample = sample_frame.sample(n = sample_size, replace = True)\n",
    "    sample['Purchase'] = np.random.binomial(1, sample['adjust_purchase_prob'])\n",
    "    sample['profit'] = (sample['Purchase'] * sample['Spending']) - 2\n",
    "    return sample['profit'].sum()\n",
    "\n",
    "# run num_trials simulations of the targeted sendout simulation\n",
    "def sendout_simulations(num_trials, sample_size):\n",
    "    sendout_profits = []\n",
    "\n",
    "    for _ in range(num_trials):\n",
    "        expected_profit = sendout_simulation_trial(sample_size)\n",
    "        sendout_profits.append(expected_profit)\n",
    "        \n",
    "    return sendout_profits"
   ]
  },
  {
   "cell_type": "code",
   "execution_count": 557,
   "metadata": {},
   "outputs": [],
   "source": [
    "num_trials = 5000\n",
    "\n",
    "simulated_profits = sendout_simulations(num_trials, sendout_size)\n",
    "\n",
    "simulation_df = pd.DataFrame(index = range(num_trials), \n",
    "                             data = {'Profit': simulated_profits})"
   ]
  },
  {
   "cell_type": "markdown",
   "metadata": {},
   "source": [
    "After running 5000 trials, we can look at the summary statistics of the expected profit."
   ]
  },
  {
   "cell_type": "code",
   "execution_count": 558,
   "metadata": {},
   "outputs": [
    {
     "data": {
      "text/html": [
       "<div>\n",
       "<style scoped>\n",
       "    .dataframe tbody tr th:only-of-type {\n",
       "        vertical-align: middle;\n",
       "    }\n",
       "\n",
       "    .dataframe tbody tr th {\n",
       "        vertical-align: top;\n",
       "    }\n",
       "\n",
       "    .dataframe thead th {\n",
       "        text-align: right;\n",
       "    }\n",
       "</style>\n",
       "<table border=\"1\" class=\"dataframe\">\n",
       "  <thead>\n",
       "    <tr style=\"text-align: right;\">\n",
       "      <th></th>\n",
       "      <th>Profit</th>\n",
       "    </tr>\n",
       "  </thead>\n",
       "  <tbody>\n",
       "    <tr>\n",
       "      <th>count</th>\n",
       "      <td>5000.0</td>\n",
       "    </tr>\n",
       "    <tr>\n",
       "      <th>mean</th>\n",
       "      <td>5377974.0</td>\n",
       "    </tr>\n",
       "    <tr>\n",
       "      <th>std</th>\n",
       "      <td>55264.0</td>\n",
       "    </tr>\n",
       "    <tr>\n",
       "      <th>min</th>\n",
       "      <td>5170038.0</td>\n",
       "    </tr>\n",
       "    <tr>\n",
       "      <th>25%</th>\n",
       "      <td>5340153.0</td>\n",
       "    </tr>\n",
       "    <tr>\n",
       "      <th>50%</th>\n",
       "      <td>5377504.0</td>\n",
       "    </tr>\n",
       "    <tr>\n",
       "      <th>75%</th>\n",
       "      <td>5414184.0</td>\n",
       "    </tr>\n",
       "    <tr>\n",
       "      <th>max</th>\n",
       "      <td>5574109.0</td>\n",
       "    </tr>\n",
       "  </tbody>\n",
       "</table>\n",
       "</div>"
      ],
      "text/plain": [
       "          Profit\n",
       "count     5000.0\n",
       "mean   5377974.0\n",
       "std      55264.0\n",
       "min    5170038.0\n",
       "25%    5340153.0\n",
       "50%    5377504.0\n",
       "75%    5414184.0\n",
       "max    5574109.0"
      ]
     },
     "execution_count": 558,
     "metadata": {},
     "output_type": "execute_result"
    }
   ],
   "source": [
    "simulation_df.describe().round(0)"
   ]
  },
  {
   "cell_type": "markdown",
   "metadata": {},
   "source": [
    "We can also plot the distribution of outcomes. We see most of our values are between 5.2 and 5.5 million dollars. "
   ]
  },
  {
   "cell_type": "code",
   "execution_count": 569,
   "metadata": {},
   "outputs": [
    {
     "data": {
      "image/png": "[encoded data removed]",
      "text/plain": [
       "<Figure size 432x288 with 1 Axes>"
      ]
     },
     "metadata": {
      "needs_background": "light"
     },
     "output_type": "display_data"
    }
   ],
   "source": [
    "fig, ax = plt.subplots()\n",
    "simulation_df['Profit'].plot.hist(bins = 20)\n",
    "plt.title(f'Simiulated Profit for {sendout_size / 1e3:.0F}k Catalogs')\n",
    "plt.xlabel('Profit (millions)')\n",
    "plt.ylabel('Trials')\n",
    "x_labels = ax.get_xticks()\n",
    "ax.set_xticklabels([str(x / 1e6) + \"m\" for x in x_labels]);"
   ]
  },
  {
   "cell_type": "markdown",
   "metadata": {},
   "source": [
    "Lastly, we will use the low end of the 95% confidence interval to report on our performance expectations of a full sendout. Given the assumptions of our modeling exercise and simulations, we have our expected profit, lift, and estimated value of the data science approach to marketing. "
   ]
  },
  {
   "cell_type": "code",
   "execution_count": 616,
   "metadata": {},
   "outputs": [
    {
     "name": "stdout",
     "output_type": "stream",
     "text": [
      "Targeted Marketing Simulation Results (95% Confidence)\n",
      "------------------------------------------------------\n",
      "Expected profit: $5.29m\n",
      "Expected lift: 229% increase in profit per customer over baseline\n",
      "Expected added value of Data Science: $3.68m\n"
     ]
    }
   ],
   "source": [
    "pct_95_val = simulation_df['Profit'].quantile([.05]).values[0]\n",
    "\n",
    "pct_95_profit_per_customer = pct_95_val / sendout_size\n",
    "\n",
    "pct_95_lift = pct_95_profit_per_customer / random_expected_per_customer - 1\n",
    "\n",
    "print('Targeted Marketing Simulation Results (95% Confidence)')\n",
    "print('------------------------------------------------------')\n",
    "print(f'Expected profit: ${pct_95_val / 1e6:.2F}m')\n",
    "print(f'Expected lift: {pct_95_lift * 100:.0F}% increase in profit per customer over baseline')\n",
    "print(f'Expected added value of Data Science: ${(pct_95_val - random_gross_profit) / 1e6:.2F}m')"
   ]
  },
  {
   "cell_type": "markdown",
   "metadata": {},
   "source": [
    "#### Deploy"
   ]
  },
  {
   "cell_type": "markdown",
   "metadata": {},
   "source": [
    "To deploy this model, we can pickle the logit and OLS prediction models and score the remaining 4.98 million customers. The top 180,000 customers will then be provided to the marketing team to target with catalogs.\n",
    "\n",
    "Since this is a one-time exercise, we do not need to worry about automating the model training and scoring process."
   ]
  },
  {
   "cell_type": "markdown",
   "metadata": {},
   "source": [
    "## Improve"
   ]
  },
  {
   "cell_type": "markdown",
   "metadata": {},
   "source": [
    "While we appear to have found a method to deliver value to the business, there are a few ways that we could improve upon the method we selected.\n",
    "\n",
    "+ First, we could work to improve our model through additional feature engineering or algorithm selection. We could use k-nn or k-means clustering to add a variable to the dataset that gathers more local information. If we are worried about data leakage, we could use another partition of the dataset to train the k-nn or k-means model. In terms of algorithm selection, we could either test additional algorithms on our data to improve the classification or regression step, and/or stack a few models together for a more accurate prediction.\n",
    "\n",
    "+ While the goal is to only target the next 180,000 customers, we could explore contributing more customers to the pool so that we could pull more customers out to target. Theoretically, there are another 25% of customers we could target with an increased lift over selection at random. \n",
    "\n",
    "+ We chose a quick and dirty method to score and rank customers to target. There is opportunity to dive further into the correlation analysis we did and uncover potential partnerships or customer affinities based on the sources that are more likely to respond to a catalog and spend a lot. For example, we could re-run a logisitc regression model in either base R or the statsmodel package and check which sources are statistically significant for purchasing and spend. This will help us understand which cross-over customer we might have with other catalogs and enrich our customer understanding. Additionally, we could look for paid advertising within their catalogs if their customers are most likely to want to purchase from us. \n",
    "\n",
    "+ One other method we could use to better understand our customers is customer segmentation. We can use clustering techniques to form meaning groups and target them based on any known affinities of the overall group. We could then find additional opportunities for custom catalogs to target different groups of customers. "
   ]
  },
  {
   "cell_type": "markdown",
   "metadata": {},
   "source": []
  }
 ],
 "metadata": {
  "kernelspec": {
   "display_name": "Python 3",
   "language": "python",
   "name": "python3"
  },
  "language_info": {
   "codemirror_mode": {
    "name": "ipython",
    "version": 3
   },
   "file_extension": ".py",
   "mimetype": "text/x-python",
   "name": "python",
   "nbconvert_exporter": "python",
   "pygments_lexer": "ipython3",
   "version": "3.6.5"
  }
 },
 "nbformat": 4,
 "nbformat_minor": 2
}
